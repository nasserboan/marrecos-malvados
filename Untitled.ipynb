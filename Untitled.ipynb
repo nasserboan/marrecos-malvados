{
 "cells": [
  {
   "cell_type": "code",
   "execution_count": 5,
   "id": "2b07f217-7eeb-40a7-ace3-76ea724df919",
   "metadata": {},
   "outputs": [],
   "source": [
    "estoque = {'banana':10, \n",
    "           'maca':2, \n",
    "           'uva':8}\n",
    "\n",
    "preco = {'banana':2.99, \n",
    "         'maca':10.9, \n",
    "         'uva': 5.5}"
   ]
  },
  {
   "cell_type": "code",
   "execution_count": 18,
   "id": "5ee3fca1-2b2a-4ae5-954f-370e13a449fb",
   "metadata": {},
   "outputs": [],
   "source": [
    "def calcula_valor_da_compra(item, qtd, dc_precos):\n",
    "    \n",
    "    valor_total_da_compra = dc_precos[item]*qtd\n",
    "    \n",
    "    return valor_total_da_compra\n",
    "\n",
    "def checa_se_tem_estoque(item, qtd, estoque):\n",
    "    if estoque[item] < qtd:\n",
    "        return 'Não tem estoque o suficiente.'\n",
    "    else:\n",
    "        return True"
   ]
  },
  {
   "cell_type": "code",
   "execution_count": 13,
   "id": "d82f433b-df4b-409f-8b0c-ea4b6837918a",
   "metadata": {},
   "outputs": [],
   "source": [
    "lista_de_compra = [['banana',3],\n",
    "                   ['maca',2],\n",
    "                   ['uva',1]]"
   ]
  },
  {
   "cell_type": "code",
   "execution_count": 20,
   "id": "d2954165-e18c-49f5-9b75-8495e346d354",
   "metadata": {},
   "outputs": [],
   "source": [
    "valor_total_da_lista = 0\n",
    "\n",
    "for compra in lista_de_compra:\n",
    "    \n",
    "    item_a_ser_comprado = compra[0]\n",
    "    qtd_a_ser_comprada = compra[1]\n",
    "    \n",
    "    check_do_estoque = checa_se_tem_estoque(item_a_ser_comprado, qtd_a_ser_comprada, estoque)\n",
    "    \n",
    "    if check_do_estoque == True:\n",
    "\n",
    "        resultado = calcula_valor_da_compra(item_a_ser_comprado, qtd_a_ser_comprada, preco)\n",
    "        valor_total_da_lista += resultado\n",
    "        \n",
    "        estoque[item_a_ser_comprado] -= qtd_a_ser_comprada\n",
    "        \n",
    "    else:\n",
    "        print('Não tem estoque. Não fiz a compra.')"
   ]
  },
  {
   "cell_type": "code",
   "execution_count": 21,
   "id": "de28ad69-06aa-47cb-8386-09317636c7d3",
   "metadata": {},
   "outputs": [
    {
     "data": {
      "text/plain": [
       "30.770000000000003"
      ]
     },
     "execution_count": 21,
     "metadata": {},
     "output_type": "execute_result"
    }
   ],
   "source": [
    "valor_total_da_lista"
   ]
  },
  {
   "cell_type": "code",
   "execution_count": 22,
   "id": "7022e710-5793-41de-bc74-6d8b84a5fb90",
   "metadata": {},
   "outputs": [
    {
     "data": {
      "text/plain": [
       "{'banana': 7, 'maca': 0, 'uva': 8}"
      ]
     },
     "execution_count": 22,
     "metadata": {},
     "output_type": "execute_result"
    }
   ],
   "source": [
    "estoque"
   ]
  },
  {
   "cell_type": "code",
   "execution_count": null,
   "id": "50e8067e-e769-4882-8656-337bf594b5a8",
   "metadata": {},
   "outputs": [],
   "source": []
  }
 ],
 "metadata": {
  "kernelspec": {
   "display_name": "Python 3 (ipykernel)",
   "language": "python",
   "name": "python3"
  },
  "language_info": {
   "codemirror_mode": {
    "name": "ipython",
    "version": 3
   },
   "file_extension": ".py",
   "mimetype": "text/x-python",
   "name": "python",
   "nbconvert_exporter": "python",
   "pygments_lexer": "ipython3",
   "version": "3.10.12"
  }
 },
 "nbformat": 4,
 "nbformat_minor": 5
}
