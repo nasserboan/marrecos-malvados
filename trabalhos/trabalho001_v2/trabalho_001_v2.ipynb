{
 "cells": [
  {
   "cell_type": "markdown",
   "id": "347b86fb-a553-44f0-9832-f5814024c398",
   "metadata": {},
   "source": [
    "# Grupo Pão Salgadinho\n",
    "___\n",
    "\n",
    "![](imgs/ecom.jpg)\n",
    "\n",
    "## Introdução\n",
    "O **Grupo Pão Salgadinho** é um varejista multinacional com operação em mais de 10 países, ele oferece itens diversos através do seu e-commerce e foi lider de venda nos últimos anos. Porém, ao final do ano de 2011 percebeu um resultado financeiro inadequado. Após algumas semanas de trabalho a empresa conseguiu criar uma base de dados de vendas e, por não ter time capacitado, decidiu contratar um cientista de para executar um conjunto incial de análises e outras que ele achar necessário.\n",
    "\n",
    "### Conjunto inicial de análise\n",
    "\n",
    "    [ ] Quais são os 5 produtos com maior representatividade de venda? A representatividade é dada pela quantidade de faturas com pelo menos uma venda do produto dividida pela quantidade total de faturas.\n",
    "    \n",
    "    [ ] Considerando somente o período de 2010-2011 (e que estamos no dia 23/12/2011). Descreva o comportamento dos nossos clientes através da disitribuição da sua recência (vide referência).\n",
    "    \n",
    "    [ ] Considerando faturamento crie uma curva ABC e responda: Qual é a média de faturamento do itens da classe A?\n",
    "    \n",
    "    [ ] Qual o ticket médio dos únicos (clientes com somente uma compra)?\n",
    "    \n",
    "    [ ] Em cada mês do ano de 2011 (até novembro), qual foi a hora com menor quantidade de vendas? Quais foram as 3 horas com a menor?\n",
    "    \n",
    "    [ ] Qual a representatividade financeira das vendas feitas para paises da Europa?\n",
    "    \n",
    "    [ ] O país de origem interfere no comportamento de compra dos clientes? Considerando somente recência e frequência."
   ]
  },
  {
   "cell_type": "markdown",
   "id": "aa1ef2d8-3cc0-4b23-bce5-34c98fbcc984",
   "metadata": {},
   "source": [
    "## Objetivo\n",
    "O seu objetivo é construir uma **apresentação** para a alta direção do Grupo Pão Salgadinho contendo **recomendações baseadas em dados para aumento do resultado de vendas da empresa**. Essa apresentação deve conter: o resultado das análises contidas no conjunto inicial com conclusões claras e contextualizadas para o negócio, gráficos para melhor comunicação e suas recomendações. O material construido não pode ter mais do que 20 slides e deve ser apresentado em, no máximo, 20 minutos.\n",
    "\n",
    "\n",
    "## Dataset\n",
    "\n",
    "Para o desenvolvimento do trabalho você deverá utilizar somente os dados contidos na tabela \"Year 2010-2011\". Segue um descritivo das colunas:\n",
    "\n",
    "* <code>StockCode</code>: Código do Produto (item). Nominal. Um número integral de 5 dígitos atribuído exclusivamente a cada produto distinto.\n",
    "* <code>Description</code>: Nome do Produto (item). Nominal.\n",
    "* <code>Quantity</code>: Quantidade de cada produto (item) por transação. Numérico.\n",
    "* <code>InvoiceDate</code>: Data e hora da fatura. Numérico. O dia e a hora em que uma transação foi gerada.\n",
    "* <code>UnitPrice</code>: Preço unitário. Numérico. Preço do produto por unidade em libras esterlinas (£).\n",
    "* <code>CustomerID</code>: Número do Cliente. Nominal. Um número integral de 5 dígitos atribuído exclusivamente a cada cliente.\n",
    "* <code>Country</code>: Nome do País. Nominal. O nome do país onde um cliente reside.\n",
    "\n",
    "Fonte: https://www.kaggle.com/datasets/lakshmi25npathi/online-retail-dataset?select=online_retail_II.xlsx\n",
    "\n",
    "## Entregáveis\n",
    "\n",
    "1. Jupyter notebook (ORGANIZADO!!), em formato html.\n",
    "2. Apresentação em PDF.\n",
    "\n",
    "## Recomendações\n",
    "\n",
    "1. Todas as análises do conjunto inicial devem ser feitas.\n",
    "2. Complemente o trabalho com pelo menos 5 análises suas.\n",
    "\n",
    "## Referências\n",
    "\n",
    "Recência é uma métrica que considera o tempo passado desde a última compra feita por um cliente. A frequência pode ser interpretada como o tempo médio entre compras. O valor monetário pode ser considerado o ticket médio ou contribuição para o faturamento daquele cliente.\n",
    "![](https://clevertap.com/wp-content/uploads/2018/03/Incontent_image.png)"
   ]
  }
 ],
 "metadata": {
  "kernelspec": {
   "display_name": "Python 3 (ipykernel)",
   "language": "python",
   "name": "python3"
  },
  "language_info": {
   "codemirror_mode": {
    "name": "ipython",
    "version": 3
   },
   "file_extension": ".py",
   "mimetype": "text/x-python",
   "name": "python",
   "nbconvert_exporter": "python",
   "pygments_lexer": "ipython3",
   "version": "3.10.12"
  }
 },
 "nbformat": 4,
 "nbformat_minor": 5
}
