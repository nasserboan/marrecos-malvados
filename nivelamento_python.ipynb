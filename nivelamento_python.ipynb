{
 "cells": [
  {
   "cell_type": "markdown",
   "metadata": {},
   "source": [
    "# Python"
   ]
  },
  {
   "cell_type": "markdown",
   "metadata": {
    "id": "XrxnotkOffp6"
   },
   "source": [
    "# Variáveis\n",
    "___\n",
    "\n",
    "Variáveis são espaços na memória do computador que possuem valores acessáveis. Utilizamos um símbolo de igual ```=```, também chamado de símbolo de atribuição para criar variáveis."
   ]
  },
  {
   "cell_type": "code",
   "execution_count": null,
   "metadata": {},
   "outputs": [],
   "source": [
    "## atribuição simples\n",
    "\n",
    "a = 10\n",
    "b = 20"
   ]
  },
  {
   "cell_type": "code",
   "execution_count": null,
   "metadata": {},
   "outputs": [],
   "source": [
    "print(a)\n",
    "print(b)"
   ]
  },
  {
   "cell_type": "code",
   "execution_count": null,
   "metadata": {},
   "outputs": [],
   "source": [
    "## atribuição múltipla\n",
    "\n",
    "a,b,c = 30,40,50"
   ]
  },
  {
   "cell_type": "code",
   "execution_count": null,
   "metadata": {},
   "outputs": [],
   "source": [
    "print(a)\n",
    "print(b)\n",
    "print(c)"
   ]
  },
  {
   "cell_type": "code",
   "execution_count": null,
   "metadata": {},
   "outputs": [],
   "source": [
    "nome = 'João'"
   ]
  },
  {
   "cell_type": "code",
   "execution_count": null,
   "metadata": {},
   "outputs": [],
   "source": [
    "print(nome)"
   ]
  },
  {
   "cell_type": "markdown",
   "metadata": {},
   "source": [
    "É importante entender que o identificador é único e recebe somente um valor por vez, para criarmos conjuntos de valores foram criadas estruturas de dados (dicionários, arrays, listas, tuplas). Se usarmos um identificador mais de um vez ele terá seu valor sobreescrito pelo valor mais recente. Exemplo:"
   ]
  },
  {
   "cell_type": "code",
   "execution_count": null,
   "metadata": {},
   "outputs": [],
   "source": [
    "nome = 'Nasser'"
   ]
  },
  {
   "cell_type": "code",
   "execution_count": null,
   "metadata": {},
   "outputs": [],
   "source": [
    "print(nome)"
   ]
  },
  {
   "cell_type": "markdown",
   "metadata": {},
   "source": [
    "Vale a pena notar que ao criar variáveis, seus identificadores (ou nomes) devem seguir algumas regras. As variáveis podem ter números e letras, porém não podemos iniciar o nome de variáveis com números e nem utilizar algumas palavras reservadas pelo sistema. A criação de identificadores também é sensível a caixa alta, sendo considerado diferentes identificadores escritos de formas diferentes."
   ]
  },
  {
   "cell_type": "code",
   "execution_count": null,
   "metadata": {},
   "outputs": [],
   "source": [
    "minha_primeira_variavel = 100"
   ]
  },
  {
   "cell_type": "code",
   "execution_count": null,
   "metadata": {},
   "outputs": [],
   "source": [
    "12_idade_joao = 15"
   ]
  },
  {
   "cell_type": "code",
   "execution_count": null,
   "metadata": {},
   "outputs": [],
   "source": [
    "idade_joao_12 = 15"
   ]
  },
  {
   "cell_type": "code",
   "execution_count": null,
   "metadata": {},
   "outputs": [],
   "source": [
    "return = 15"
   ]
  },
  {
   "cell_type": "markdown",
   "metadata": {},
   "source": [
    "A palavra reservada return já descreve um comando nativo do python que não pode ser substituído e por isso não podemos utilizar esse identificador para criar uma variável. Segue uma lista de palavras reservadas em python.\n",
    "\n"
   ]
  },
  {
   "cell_type": "markdown",
   "metadata": {},
   "source": [
    "![](https://community.revelo.com.br/content/images/2023/02/image-38.png)"
   ]
  },
  {
   "cell_type": "markdown",
   "metadata": {},
   "source": [
    "# Tipos de dados\n",
    "___\n",
    "\n",
    "As variáveis podem receber dados e objetos. Pode-se dividir os dados em 4 tipos diferentes, cada tipo de dado tem sua particularidade e pode ser utilizado em situações específicas. Todo código em python vai ter, em seu processamento, que lidar com esses tipos de dados, são eles:\n",
    "\n",
    "* **string (str)** - valores textuais, representados por aspas (simples ou duplas) ou criados através da função str()\n",
    "* **integer (int)** - valores númericos inteiros, criados através da função int()\n",
    "* **float (float)** - valores numéricos fracionários, também chamados de valores flutuantes, criados através da função float()\n",
    "* **boolean (bool)** - valores booleanos, só assumem dois valores possíveis ```True``` e ```False```. Computacionalmente True pode ser representado pelo valor 1 e False por 0.\n",
    "\n",
    "É possível descrobrir o tipo de um dado usando a função type()."
   ]
  },
  {
   "cell_type": "code",
   "execution_count": null,
   "metadata": {},
   "outputs": [],
   "source": [
    "## uma string\n",
    "\n",
    "x = \"Nasser falou : 'meu pedido chegou!'.\"\n",
    "type(x)"
   ]
  },
  {
   "cell_type": "code",
   "execution_count": null,
   "metadata": {},
   "outputs": [],
   "source": [
    "## um integer\n",
    "\n",
    "x = 150\n",
    "type(x)"
   ]
  },
  {
   "cell_type": "code",
   "execution_count": null,
   "metadata": {},
   "outputs": [],
   "source": [
    "## um float\n",
    "\n",
    "carros = 275\n",
    "pessoas = 1389\n",
    "\n",
    "x = carros/pessoas\n",
    "type(x)"
   ]
  },
  {
   "cell_type": "code",
   "execution_count": null,
   "metadata": {},
   "outputs": [],
   "source": [
    "## função round para arredondar valores flutuantes\n",
    "\n",
    "round(x,6)"
   ]
  },
  {
   "cell_type": "code",
   "execution_count": null,
   "metadata": {},
   "outputs": [],
   "source": [
    "x"
   ]
  },
  {
   "cell_type": "code",
   "execution_count": null,
   "metadata": {},
   "outputs": [],
   "source": [
    "## um boolean\n",
    "\n",
    "x = True\n",
    "type(x)"
   ]
  },
  {
   "cell_type": "code",
   "execution_count": null,
   "metadata": {},
   "outputs": [],
   "source": [
    "True + False"
   ]
  },
  {
   "cell_type": "markdown",
   "metadata": {},
   "source": [
    "É interessante notar que o simples fato de atribuirmos um valor a uma variável o tipo do dado já é reconhecido, ou seja, não há necessidade de declarar a variável ou o tipo de dados que será guardado."
   ]
  },
  {
   "cell_type": "markdown",
   "metadata": {},
   "source": [
    "# Operadores Aritiméticos\n",
    "___\n",
    "\n",
    "Operações aritiméticas são necessárias para qualquer trabalho de processamento, utilizando variáveis podemos executar operações matemáticas de forma dinâmica. Esses são os operadores matemáticos utilizados em python.\n",
    "\n",
    "| Operador |            Ação            |\n",
    "|:--------:|:--------------------------:|\n",
    "|     -    |          subtração         |\n",
    "|     +    |           adição           |\n",
    "|     *    |        multiplicação       |\n",
    "|     /    |        divisão       |\n",
    "|     %    |  módulo da divisão (resto) |\n",
    "|    **    |         potenciação        |\n",
    "|    +=    |      incremento (soma)     |\n",
    "|    *=    | incremento (multiplicação) |\n",
    "|    -=    |   decremento (subtração)   |\n",
    "\n",
    "Para utilizar qualquer uma das operações demonstradas acima, basta escrever o operador associado com as variáveis, bem similar a uma fórmula matemática comum."
   ]
  },
  {
   "cell_type": "code",
   "execution_count": null,
   "metadata": {},
   "outputs": [],
   "source": [
    "## subtração\n",
    "\n",
    "28 - 3"
   ]
  },
  {
   "cell_type": "code",
   "execution_count": null,
   "metadata": {},
   "outputs": [],
   "source": [
    "## adição\n",
    "\n",
    "28 + 28"
   ]
  },
  {
   "cell_type": "code",
   "execution_count": null,
   "metadata": {},
   "outputs": [],
   "source": [
    "## multiplicação\n",
    "\n",
    "28 * 1.5"
   ]
  },
  {
   "cell_type": "code",
   "execution_count": null,
   "metadata": {},
   "outputs": [],
   "source": [
    "## módulo\n",
    "\n",
    "55 % 10"
   ]
  },
  {
   "cell_type": "code",
   "execution_count": null,
   "metadata": {},
   "outputs": [],
   "source": [
    "## potências\n",
    "\n",
    "10**2"
   ]
  },
  {
   "cell_type": "code",
   "execution_count": null,
   "metadata": {},
   "outputs": [],
   "source": [
    "quantide_recomendada_por_kg = 30\n",
    "peso = 95\n",
    "\n",
    "agua_por_dia = quantide_recomendada_por_kg * peso\n",
    "agua_por_dia"
   ]
  },
  {
   "cell_type": "code",
   "execution_count": null,
   "metadata": {},
   "outputs": [],
   "source": [
    "## incremento\n",
    "\n",
    "x = 10\n",
    "x += 5\n",
    "print(x)"
   ]
  },
  {
   "cell_type": "code",
   "execution_count": null,
   "metadata": {},
   "outputs": [],
   "source": [
    "## incremento (multiplicação)\n",
    "\n",
    "x = 10\n",
    "x *= 2.2\n",
    "print(x)"
   ]
  },
  {
   "cell_type": "code",
   "execution_count": null,
   "metadata": {},
   "outputs": [],
   "source": [
    "## decremento\n",
    "\n",
    "x = 10\n",
    "x -= 2.5\n",
    "print(x)"
   ]
  },
  {
   "cell_type": "markdown",
   "metadata": {},
   "source": [
    "# f-string\n",
    "___\n",
    "\n",
    "Existe um recurso em python chamado de f-string, sua principal função é adicionar variáveis junto a texto de uma forma fácil. Esse recurso funciona muito bem com a função ```print()```, mas também pode ser utilizado em strings puras e até docstrings (strings de documentação).Para utiliza-la basta colocar a letra ```f``` antes de abrir as aspas de uma string e colocar a variável desejada entre ```{}``` (chaves)."
   ]
  },
  {
   "cell_type": "code",
   "execution_count": 1,
   "metadata": {},
   "outputs": [
    {
     "name": "stdout",
     "output_type": "stream",
     "text": [
      "A idade digitada foi 10 anos!\n"
     ]
    }
   ],
   "source": [
    "idade_do_cliente = 10\n",
    "\n",
    "print(f'A idade digitada foi {idade_do_cliente} anos!')"
   ]
  },
  {
   "cell_type": "markdown",
   "metadata": {},
   "source": [
    "# Estrutura de Dados\n",
    "___\n",
    "\n",
    "Estruturas de dados são uma forma de organizar e armazenar dados para que possam ser acessados e trabalhados de forma eficiente. Elas definem a relação entre os dados e as operações que podem ser executadas neles. Existem vários tipos de estruturas de dados definidas que tornam mais fácil para os cientistas de dados se concentrarem na solução de problemas maiores, em vez de se perderem nos detalhes da descrição e acesso aos dados.\n",
    "\n",
    "Em python existem as seguintes estruturas de dados: listas, tuplas, dicionários, coleções (sets). As mais utilizadas no dia-a-dia de um cientista de dados são as listas, tuplas, dicionários e são nelas que esta matéria irá focar.\n",
    "\n",
    "## Listas\n",
    "___\n",
    "\n",
    "A lista é, provavelmente, a estrutura de dados mais utilizada e mais básica em python. Ela é uma coleção ordenada, mutável e iterável também podendo ser heterogênea, ou seja, receber diversos tipos de dados. Ela tem vários métodos (funcionalidades do objeto lista) que podem auxiliar na organização e manipulação de dados. Alguns exemplos de lista:"
   ]
  },
  {
   "cell_type": "code",
   "execution_count": 2,
   "metadata": {},
   "outputs": [],
   "source": [
    "lista_de_inteiros = [1,2,3,4,5] ## lista de integers\n",
    "lista_heterogenea = ['nasser',1.71,100, True]\n",
    "lista_de_lista = [[1,2,3,4],\n",
    "                  [5,6,7,8]]"
   ]
  },
  {
   "cell_type": "markdown",
   "metadata": {},
   "source": [
    "Podemos encontrar o tamanho de uma lista utilizando a função ```len()```"
   ]
  },
  {
   "cell_type": "code",
   "execution_count": 3,
   "metadata": {},
   "outputs": [
    {
     "name": "stdout",
     "output_type": "stream",
     "text": [
      "5\n",
      "4\n",
      "2\n"
     ]
    }
   ],
   "source": [
    "print(len(lista_de_inteiros))\n",
    "print(len(lista_heterogenea))\n",
    "print(len(lista_de_lista))"
   ]
  },
  {
   "cell_type": "markdown",
   "metadata": {},
   "source": [
    "Também é possivel criar listas vazias!"
   ]
  },
  {
   "cell_type": "code",
   "execution_count": 4,
   "metadata": {},
   "outputs": [
    {
     "data": {
      "text/plain": [
       "[]"
      ]
     },
     "execution_count": 4,
     "metadata": {},
     "output_type": "execute_result"
    }
   ],
   "source": [
    "cidades_que_visitei = []\n",
    "cidades_que_visitei"
   ]
  },
  {
   "cell_type": "code",
   "execution_count": 5,
   "metadata": {},
   "outputs": [
    {
     "data": {
      "text/plain": [
       "['Brasília', 'Cairo', 'Tel-Aviv', 'Paris', 'Jerusalem', 'Eilat']"
      ]
     },
     "execution_count": 5,
     "metadata": {},
     "output_type": "execute_result"
    }
   ],
   "source": [
    "cidades_que_visitei = ['Brasília','Cairo','Tel-Aviv','Paris','Jerusalem','Eilat']\n",
    "cidades_que_visitei"
   ]
  },
  {
   "cell_type": "markdown",
   "metadata": {},
   "source": [
    "Podemos acessar dados de uma lista utilizando a localização do dado a ser recuperado, iniciando a conta por ```zero```!\n",
    "\n",
    "![lista](imgs/lista.png)\n",
    "\n",
    "Ou seja, o primeiro valor tem o índice ```0 (zero)``` e os próximos seguem normalmente a contagem."
   ]
  },
  {
   "cell_type": "code",
   "execution_count": 6,
   "metadata": {},
   "outputs": [
    {
     "data": {
      "text/plain": [
       "8"
      ]
     },
     "execution_count": 6,
     "metadata": {},
     "output_type": "execute_result"
    }
   ],
   "source": [
    "## acessando o primeiro valor\n",
    "\n",
    "len(cidades_que_visitei[0])"
   ]
  },
  {
   "cell_type": "code",
   "execution_count": 7,
   "metadata": {},
   "outputs": [
    {
     "data": {
      "text/plain": [
       "'Cairo'"
      ]
     },
     "execution_count": 7,
     "metadata": {},
     "output_type": "execute_result"
    }
   ],
   "source": [
    "## acessando o segundo valor\n",
    "\n",
    "cidades_que_visitei[1]"
   ]
  },
  {
   "cell_type": "code",
   "execution_count": 8,
   "metadata": {},
   "outputs": [
    {
     "data": {
      "text/plain": [
       "'Paris'"
      ]
     },
     "execution_count": 8,
     "metadata": {},
     "output_type": "execute_result"
    }
   ],
   "source": [
    "## acessando o quarto valor\n",
    "\n",
    "cidades_que_visitei[3]"
   ]
  },
  {
   "cell_type": "markdown",
   "metadata": {},
   "source": [
    "É possível reatribuir o valor em qualquer posição de uma lista, para isso basta selecionar o índica da lista que deseja alterar e atribuir um novo valor a ela."
   ]
  },
  {
   "cell_type": "code",
   "execution_count": 9,
   "metadata": {},
   "outputs": [
    {
     "data": {
      "text/plain": [
       "'Jerusalem'"
      ]
     },
     "execution_count": 9,
     "metadata": {},
     "output_type": "execute_result"
    }
   ],
   "source": [
    "cidades_que_visitei[4]"
   ]
  },
  {
   "cell_type": "code",
   "execution_count": 10,
   "metadata": {},
   "outputs": [],
   "source": [
    "cidades_que_visitei[4] = 'Jerusalém'"
   ]
  },
  {
   "cell_type": "code",
   "execution_count": 11,
   "metadata": {},
   "outputs": [
    {
     "data": {
      "text/plain": [
       "'Jerusalém'"
      ]
     },
     "execution_count": 11,
     "metadata": {},
     "output_type": "execute_result"
    }
   ],
   "source": [
    "cidades_que_visitei[4]"
   ]
  },
  {
   "cell_type": "code",
   "execution_count": 12,
   "metadata": {},
   "outputs": [
    {
     "data": {
      "text/plain": [
       "['Brasília', 'Cairo', 'Tel-Aviv', 'Paris', 'Jerusalém', 'Eilat']"
      ]
     },
     "execution_count": 12,
     "metadata": {},
     "output_type": "execute_result"
    }
   ],
   "source": [
    "cidades_que_visitei"
   ]
  },
  {
   "cell_type": "markdown",
   "metadata": {},
   "source": [
    "Uma forma simples e bastante poderosa de selecionar valores dentro de uma lista é utilizando a técnica de fatiamento. Ela permite que a seleção de valores dentro de uma janela com início e fim, para isso basta utilizar ```:``` ."
   ]
  },
  {
   "cell_type": "code",
   "execution_count": 13,
   "metadata": {},
   "outputs": [],
   "source": [
    "## a função range(n) cria uma lista com valores de zero até n.\n",
    "\n",
    "lista_100 = list(range(100))"
   ]
  },
  {
   "cell_type": "code",
   "execution_count": 14,
   "metadata": {},
   "outputs": [
    {
     "data": {
      "text/plain": [
       "[0, 1, 2]"
      ]
     },
     "execution_count": 14,
     "metadata": {},
     "output_type": "execute_result"
    }
   ],
   "source": [
    "## usando fatiamento\n",
    "\n",
    "primeiros_3 = lista_100[:3]\n",
    "primeiros_3"
   ]
  },
  {
   "cell_type": "code",
   "execution_count": 15,
   "metadata": {},
   "outputs": [
    {
     "data": {
      "text/plain": [
       "['Brasília', 'Cairo']"
      ]
     },
     "execution_count": 15,
     "metadata": {},
     "output_type": "execute_result"
    }
   ],
   "source": [
    "cidades_que_visitei[0:2]"
   ]
  },
  {
   "cell_type": "code",
   "execution_count": 16,
   "metadata": {},
   "outputs": [
    {
     "data": {
      "text/plain": [
       "['Brasília', 'Cairo']"
      ]
     },
     "execution_count": 16,
     "metadata": {},
     "output_type": "execute_result"
    }
   ],
   "source": [
    "cidades_que_visitei[:2]"
   ]
  },
  {
   "cell_type": "code",
   "execution_count": 17,
   "metadata": {},
   "outputs": [
    {
     "data": {
      "text/plain": [
       "['Brasília', 'Cairo', 'Tel-Aviv', 'Paris', 'Jerusalém', 'Eilat']"
      ]
     },
     "execution_count": 17,
     "metadata": {},
     "output_type": "execute_result"
    }
   ],
   "source": [
    "cidades_que_visitei[:]"
   ]
  },
  {
   "cell_type": "code",
   "execution_count": 18,
   "metadata": {},
   "outputs": [
    {
     "data": {
      "text/plain": [
       "['Tel-Aviv', 'Paris', 'Jerusalém', 'Eilat']"
      ]
     },
     "execution_count": 18,
     "metadata": {},
     "output_type": "execute_result"
    }
   ],
   "source": [
    "cidades_que_visitei[2:]"
   ]
  },
  {
   "cell_type": "code",
   "execution_count": 19,
   "metadata": {},
   "outputs": [
    {
     "data": {
      "text/plain": [
       "['Paris', 'Jerusalém']"
      ]
     },
     "execution_count": 19,
     "metadata": {},
     "output_type": "execute_result"
    }
   ],
   "source": [
    "cidades_que_visitei[3:5]"
   ]
  },
  {
   "cell_type": "markdown",
   "metadata": {},
   "source": [
    "Perceba que o indice no lado esquerdo o sinal de dois-pontos é inclusivo e do lado direito é exclusivo (ou seja, não retorna o valor). Também é possível selecionar os valores começando a contagem do final da lista porém, nessa situação, a contagem começa com 1 e é negativa."
   ]
  },
  {
   "cell_type": "code",
   "execution_count": 20,
   "metadata": {},
   "outputs": [
    {
     "data": {
      "text/plain": [
       "['Brasília', 'Cairo', 'Tel-Aviv', 'Paris', 'Jerusalém', 'Eilat']"
      ]
     },
     "execution_count": 20,
     "metadata": {},
     "output_type": "execute_result"
    }
   ],
   "source": [
    "cidades_que_visitei"
   ]
  },
  {
   "cell_type": "code",
   "execution_count": 21,
   "metadata": {},
   "outputs": [
    {
     "data": {
      "text/plain": [
       "'Eilat'"
      ]
     },
     "execution_count": 21,
     "metadata": {},
     "output_type": "execute_result"
    }
   ],
   "source": [
    "cidades_que_visitei[-1]"
   ]
  },
  {
   "cell_type": "code",
   "execution_count": 22,
   "metadata": {},
   "outputs": [
    {
     "data": {
      "text/plain": [
       "['Cairo', 'Tel-Aviv', 'Paris']"
      ]
     },
     "execution_count": 22,
     "metadata": {},
     "output_type": "execute_result"
    }
   ],
   "source": [
    "cidades_que_visitei[-5:-2]"
   ]
  },
  {
   "cell_type": "markdown",
   "metadata": {},
   "source": [
    "Listas podem ser heterogeneas, ou seja, podemos colocar outras listas dentro dela, outras estruturas de dados e até objetos mais complexos."
   ]
  },
  {
   "cell_type": "code",
   "execution_count": 23,
   "metadata": {},
   "outputs": [],
   "source": [
    "paises_que_visitei = ['Brasil',{'Jerusalem':5,'Tel-Aviv':2,'Eilat':1},('França','Paris')]"
   ]
  },
  {
   "cell_type": "code",
   "execution_count": 24,
   "metadata": {},
   "outputs": [
    {
     "data": {
      "text/plain": [
       "3"
      ]
     },
     "execution_count": 24,
     "metadata": {},
     "output_type": "execute_result"
    }
   ],
   "source": [
    "len(paises_que_visitei)"
   ]
  },
  {
   "cell_type": "code",
   "execution_count": 25,
   "metadata": {},
   "outputs": [
    {
     "data": {
      "text/plain": [
       "str"
      ]
     },
     "execution_count": 25,
     "metadata": {},
     "output_type": "execute_result"
    }
   ],
   "source": [
    "type(paises_que_visitei[0])"
   ]
  },
  {
   "cell_type": "code",
   "execution_count": 26,
   "metadata": {},
   "outputs": [
    {
     "data": {
      "text/plain": [
       "dict"
      ]
     },
     "execution_count": 26,
     "metadata": {},
     "output_type": "execute_result"
    }
   ],
   "source": [
    "type(paises_que_visitei[1])"
   ]
  },
  {
   "cell_type": "code",
   "execution_count": 27,
   "metadata": {},
   "outputs": [
    {
     "data": {
      "text/plain": [
       "tuple"
      ]
     },
     "execution_count": 27,
     "metadata": {},
     "output_type": "execute_result"
    }
   ],
   "source": [
    "type(paises_que_visitei[2])"
   ]
  },
  {
   "cell_type": "markdown",
   "metadata": {},
   "source": [
    "### Métodos de Listas\n",
    "\n",
    "Métodos são pequenos funcionalidades de um objeto que podemos utilizar para manipular os dados desse objeto. Todo objeto igual, independente do seu conteúdo, possui os mesmos métodos. Os métodos de um objeto podem ser acessados colocar um ```.``` ao final do variável e escrevendo seu nome.\n",
    "\n",
    "Os métodos de listas mais utilizados são os seguintes:\n",
    "\n",
    "![](imgs/lista3.png)"
   ]
  },
  {
   "cell_type": "code",
   "execution_count": 30,
   "metadata": {},
   "outputs": [
    {
     "data": {
      "text/plain": [
       "['Brasília', 'Cairo', 'Tel-Aviv', 'Paris', 'Jerusalém', 'Eilat']"
      ]
     },
     "execution_count": 30,
     "metadata": {},
     "output_type": "execute_result"
    }
   ],
   "source": [
    "cidades_que_visitei"
   ]
  },
  {
   "cell_type": "code",
   "execution_count": 33,
   "metadata": {},
   "outputs": [],
   "source": [
    "## adicionando a cidade Araxá ao final da lista\n",
    "\n",
    "cidades_que_visitei.append('Araxá')"
   ]
  },
  {
   "cell_type": "code",
   "execution_count": 34,
   "metadata": {},
   "outputs": [
    {
     "data": {
      "text/plain": [
       "['Brasília',\n",
       " 'Cairo',\n",
       " 'Tel-Aviv',\n",
       " 'Paris',\n",
       " 'Jerusalém',\n",
       " 'Eilat',\n",
       " 'Araxá',\n",
       " 'Araxá']"
      ]
     },
     "execution_count": 34,
     "metadata": {},
     "output_type": "execute_result"
    }
   ],
   "source": [
    "cidades_que_visitei"
   ]
  },
  {
   "cell_type": "code",
   "execution_count": 47,
   "metadata": {},
   "outputs": [
    {
     "data": {
      "text/plain": [
       "2"
      ]
     },
     "execution_count": 47,
     "metadata": {},
     "output_type": "execute_result"
    }
   ],
   "source": [
    "## contando quantas vezes a palavra 'Eilat' aparece na lista\n",
    "\n",
    "cidades_que_visitei.count('Araxá')"
   ]
  },
  {
   "cell_type": "code",
   "execution_count": 48,
   "metadata": {},
   "outputs": [],
   "source": [
    "cidades_que_visitei.append('Araxá')"
   ]
  },
  {
   "cell_type": "code",
   "execution_count": 50,
   "metadata": {},
   "outputs": [
    {
     "data": {
      "text/plain": [
       "['Brasília',\n",
       " 'Cairo',\n",
       " 'Tel-Aviv',\n",
       " 'Paris',\n",
       " 'Jerusalém',\n",
       " 'Eilat',\n",
       " 'Araxá',\n",
       " 'Araxá',\n",
       " 'Araxá']"
      ]
     },
     "execution_count": 50,
     "metadata": {},
     "output_type": "execute_result"
    }
   ],
   "source": [
    "cidades_que_visitei"
   ]
  },
  {
   "cell_type": "code",
   "execution_count": 58,
   "metadata": {},
   "outputs": [
    {
     "data": {
      "text/plain": [
       "3"
      ]
     },
     "execution_count": 58,
     "metadata": {},
     "output_type": "execute_result"
    }
   ],
   "source": [
    "cidades_que_visitei.count('Araxá')"
   ]
  },
  {
   "cell_type": "code",
   "execution_count": 59,
   "metadata": {},
   "outputs": [
    {
     "data": {
      "text/plain": [
       "['Brasília',\n",
       " 'Cairo',\n",
       " 'Tel-Aviv',\n",
       " 'Paris',\n",
       " 'Jerusalém',\n",
       " 'Eilat',\n",
       " 'Araxá',\n",
       " 'Araxá',\n",
       " 'Araxá']"
      ]
     },
     "execution_count": 59,
     "metadata": {},
     "output_type": "execute_result"
    }
   ],
   "source": [
    "cidades_que_visitei"
   ]
  },
  {
   "cell_type": "code",
   "execution_count": 64,
   "metadata": {},
   "outputs": [
    {
     "data": {
      "text/plain": [
       "5"
      ]
     },
     "execution_count": 64,
     "metadata": {},
     "output_type": "execute_result"
    }
   ],
   "source": [
    "[1,1,1,1,1,1,2,2,2,2,2,2,33,3,3,3,3,3].count(3)"
   ]
  },
  {
   "cell_type": "code",
   "execution_count": 65,
   "metadata": {},
   "outputs": [
    {
     "data": {
      "text/plain": [
       "['Brasília',\n",
       " 'Cairo',\n",
       " 'Tel-Aviv',\n",
       " 'Paris',\n",
       " 'Jerusalém',\n",
       " 'Eilat',\n",
       " 'Araxá',\n",
       " 'Araxá',\n",
       " 'Araxá']"
      ]
     },
     "execution_count": 65,
     "metadata": {},
     "output_type": "execute_result"
    }
   ],
   "source": [
    "cidades_que_visitei"
   ]
  },
  {
   "cell_type": "code",
   "execution_count": 77,
   "metadata": {},
   "outputs": [],
   "source": [
    "## encontrando o índice da palavra 'Paris'\n",
    "\n",
    "cidades_que_visitei[cidades_que_visitei.index('Paris')] = 'PARIS'"
   ]
  },
  {
   "cell_type": "code",
   "execution_count": 78,
   "metadata": {},
   "outputs": [
    {
     "data": {
      "text/plain": [
       "['Brasília',\n",
       " 'Cairo',\n",
       " 'Tel-Aviv',\n",
       " 'PARIS',\n",
       " 'Jerusalém',\n",
       " 'Eilat',\n",
       " 'Araxá',\n",
       " 'Araxá',\n",
       " 'Araxá']"
      ]
     },
     "execution_count": 78,
     "metadata": {},
     "output_type": "execute_result"
    }
   ],
   "source": [
    "cidades_que_visitei"
   ]
  },
  {
   "cell_type": "code",
   "execution_count": 79,
   "metadata": {},
   "outputs": [],
   "source": [
    "idx_paris = cidades_que_visitei.index('PARIS')"
   ]
  },
  {
   "cell_type": "code",
   "execution_count": 82,
   "metadata": {},
   "outputs": [
    {
     "data": {
      "text/plain": [
       "'PARIS'"
      ]
     },
     "execution_count": 82,
     "metadata": {},
     "output_type": "execute_result"
    }
   ],
   "source": [
    "cidades_que_visitei[idx_paris]"
   ]
  },
  {
   "cell_type": "code",
   "execution_count": 85,
   "metadata": {},
   "outputs": [
    {
     "data": {
      "text/plain": [
       "[[1, 2, 3, 4], [5, 6, 7, 8]]"
      ]
     },
     "execution_count": 85,
     "metadata": {},
     "output_type": "execute_result"
    }
   ],
   "source": [
    "lista_de_lista"
   ]
  },
  {
   "cell_type": "code",
   "execution_count": 86,
   "metadata": {},
   "outputs": [],
   "source": [
    "lista_de_lista[0].append(7)"
   ]
  },
  {
   "cell_type": "code",
   "execution_count": 87,
   "metadata": {},
   "outputs": [
    {
     "data": {
      "text/plain": [
       "[[1, 2, 3, 4, 7], [5, 6, 7, 8]]"
      ]
     },
     "execution_count": 87,
     "metadata": {},
     "output_type": "execute_result"
    }
   ],
   "source": [
    "lista_de_lista"
   ]
  },
  {
   "cell_type": "code",
   "execution_count": 88,
   "metadata": {},
   "outputs": [],
   "source": [
    "lista_de_lista[1].append(9)"
   ]
  },
  {
   "cell_type": "code",
   "execution_count": 89,
   "metadata": {},
   "outputs": [
    {
     "data": {
      "text/plain": [
       "[[1, 2, 3, 4, 7], [5, 6, 7, 8, 9]]"
      ]
     },
     "execution_count": 89,
     "metadata": {},
     "output_type": "execute_result"
    }
   ],
   "source": [
    "lista_de_lista"
   ]
  },
  {
   "cell_type": "code",
   "execution_count": 90,
   "metadata": {},
   "outputs": [],
   "source": [
    "lista_de_lista.append(10)"
   ]
  },
  {
   "cell_type": "code",
   "execution_count": 91,
   "metadata": {},
   "outputs": [
    {
     "data": {
      "text/plain": [
       "[[1, 2, 3, 4, 7], [5, 6, 7, 8, 9], 10]"
      ]
     },
     "execution_count": 91,
     "metadata": {},
     "output_type": "execute_result"
    }
   ],
   "source": [
    "lista_de_lista"
   ]
  },
  {
   "cell_type": "code",
   "execution_count": 111,
   "metadata": {},
   "outputs": [
    {
     "data": {
      "text/plain": [
       "['Araxá',\n",
       " 'Araxá',\n",
       " 'Araxá',\n",
       " 'Eilat',\n",
       " 'Jerusalém',\n",
       " 'PARIS',\n",
       " 'Tel-Aviv',\n",
       " 'Cairo',\n",
       " 'Brasília']"
      ]
     },
     "execution_count": 111,
     "metadata": {},
     "output_type": "execute_result"
    }
   ],
   "source": [
    "## alterando a ordem da lista (invertendo)\n",
    "\n",
    "cidades_que_visitei.reverse()\n",
    "cidades_que_visitei"
   ]
  },
  {
   "cell_type": "code",
   "execution_count": 113,
   "metadata": {},
   "outputs": [
    {
     "data": {
      "text/plain": [
       "['Araxá',\n",
       " 'Araxá',\n",
       " 'Araxá',\n",
       " 'Brasília',\n",
       " 'Cairo',\n",
       " 'Eilat',\n",
       " 'Jerusalém',\n",
       " 'PARIS',\n",
       " 'Tel-Aviv']"
      ]
     },
     "execution_count": 113,
     "metadata": {},
     "output_type": "execute_result"
    }
   ],
   "source": [
    "## organizando a lista\n",
    "\n",
    "cidades_que_visitei.sort()\n",
    "cidades_que_visitei"
   ]
  },
  {
   "cell_type": "code",
   "execution_count": 121,
   "metadata": {},
   "outputs": [],
   "source": [
    "cidades_que_visitei.append(12)"
   ]
  },
  {
   "cell_type": "code",
   "execution_count": 122,
   "metadata": {},
   "outputs": [
    {
     "ename": "TypeError",
     "evalue": "'<' not supported between instances of 'int' and 'str'",
     "output_type": "error",
     "traceback": [
      "\u001b[0;31m---------------------------------------------------------------------------\u001b[0m",
      "\u001b[0;31mTypeError\u001b[0m                                 Traceback (most recent call last)",
      "\u001b[0;32m/tmp/ipykernel_631/2259080480.py\u001b[0m in \u001b[0;36m<cell line: 1>\u001b[0;34m()\u001b[0m\n\u001b[0;32m----> 1\u001b[0;31m \u001b[0mcidades_que_visitei\u001b[0m\u001b[0;34m.\u001b[0m\u001b[0msort\u001b[0m\u001b[0;34m(\u001b[0m\u001b[0;34m)\u001b[0m\u001b[0;34m\u001b[0m\u001b[0;34m\u001b[0m\u001b[0m\n\u001b[0m\u001b[1;32m      2\u001b[0m \u001b[0mcidades_que_visitei\u001b[0m\u001b[0;34m\u001b[0m\u001b[0;34m\u001b[0m\u001b[0m\n",
      "\u001b[0;31mTypeError\u001b[0m: '<' not supported between instances of 'int' and 'str'"
     ]
    }
   ],
   "source": [
    "cidades_que_visitei.sort()\n",
    "cidades_que_visitei"
   ]
  },
  {
   "cell_type": "code",
   "execution_count": 123,
   "metadata": {},
   "outputs": [
    {
     "data": {
      "text/plain": [
       "['*1paris',\n",
       " '1paris',\n",
       " 'Araxá',\n",
       " 'Araxá',\n",
       " 'Araxá',\n",
       " 'Brasília',\n",
       " 'Cairo',\n",
       " 'Eilat',\n",
       " 'Jerusalém',\n",
       " 'PARIS',\n",
       " 'Tel-Aviv',\n",
       " 'paris',\n",
       " 12]"
      ]
     },
     "execution_count": 123,
     "metadata": {},
     "output_type": "execute_result"
    }
   ],
   "source": [
    "cidades_que_visitei.sort()"
   ]
  },
  {
   "cell_type": "code",
   "execution_count": 124,
   "metadata": {},
   "outputs": [],
   "source": [
    "x = [55,42,12,9,129,0,-10.15,-25,-8]"
   ]
  },
  {
   "cell_type": "code",
   "execution_count": 128,
   "metadata": {},
   "outputs": [
    {
     "data": {
      "text/plain": [
       "[-25, -10.15, -8, 0, 9, 12, 42, 55, 129]"
      ]
     },
     "execution_count": 128,
     "metadata": {},
     "output_type": "execute_result"
    }
   ],
   "source": [
    "x.sort()\n",
    "x"
   ]
  },
  {
   "cell_type": "code",
   "execution_count": 131,
   "metadata": {},
   "outputs": [
    {
     "data": {
      "text/plain": [
       "['*1paris',\n",
       " '1paris',\n",
       " 'Araxá',\n",
       " 'Araxá',\n",
       " 'Araxá',\n",
       " 'Brasília',\n",
       " 'Cairo',\n",
       " 'Eilat',\n",
       " 'Jerusalém',\n",
       " 'PARIS',\n",
       " 'Tel-Aviv',\n",
       " 'paris',\n",
       " 12]"
      ]
     },
     "execution_count": 131,
     "metadata": {},
     "output_type": "execute_result"
    }
   ],
   "source": [
    "cidades_que_visitei"
   ]
  },
  {
   "cell_type": "code",
   "execution_count": 135,
   "metadata": {},
   "outputs": [
    {
     "data": {
      "text/plain": [
       "0"
      ]
     },
     "execution_count": 135,
     "metadata": {},
     "output_type": "execute_result"
    }
   ],
   "source": [
    "idx_do_valor_inteiro = cidades_que_visitei.index('*1paris')\n",
    "idx_do_valor_inteiro"
   ]
  },
  {
   "cell_type": "code",
   "execution_count": 136,
   "metadata": {},
   "outputs": [
    {
     "data": {
      "text/plain": [
       "['1paris',\n",
       " 'Araxá',\n",
       " 'Araxá',\n",
       " 'Araxá',\n",
       " 'Brasília',\n",
       " 'Cairo',\n",
       " 'Eilat',\n",
       " 'Jerusalém',\n",
       " 'PARIS',\n",
       " 'Tel-Aviv',\n",
       " 'paris']"
      ]
     },
     "execution_count": 136,
     "metadata": {},
     "output_type": "execute_result"
    }
   ],
   "source": [
    "## extraindo um valor da lista\n",
    "\n",
    "cidades_que_visitei.pop(idx_do_valor_inteiro)\n",
    "cidades_que_visitei"
   ]
  },
  {
   "cell_type": "code",
   "execution_count": 138,
   "metadata": {},
   "outputs": [
    {
     "data": {
      "text/plain": [
       "'1paris'"
      ]
     },
     "execution_count": 138,
     "metadata": {},
     "output_type": "execute_result"
    }
   ],
   "source": [
    "valor_removido = cidades_que_visitei.pop(0)\n",
    "valor_removido"
   ]
  },
  {
   "cell_type": "code",
   "execution_count": 139,
   "metadata": {},
   "outputs": [
    {
     "data": {
      "text/plain": [
       "['Araxá',\n",
       " 'Araxá',\n",
       " 'Araxá',\n",
       " 'Brasília',\n",
       " 'Cairo',\n",
       " 'Eilat',\n",
       " 'Jerusalém',\n",
       " 'PARIS',\n",
       " 'Tel-Aviv',\n",
       " 'paris']"
      ]
     },
     "execution_count": 139,
     "metadata": {},
     "output_type": "execute_result"
    }
   ],
   "source": [
    "cidades_que_visitei"
   ]
  },
  {
   "cell_type": "code",
   "execution_count": 140,
   "metadata": {},
   "outputs": [
    {
     "data": {
      "text/plain": [
       "['Araxá',\n",
       " 'Araxá',\n",
       " 'Araxá',\n",
       " 'Cairo',\n",
       " 'Eilat',\n",
       " 'Jerusalém',\n",
       " 'PARIS',\n",
       " 'Tel-Aviv',\n",
       " 'paris']"
      ]
     },
     "execution_count": 140,
     "metadata": {},
     "output_type": "execute_result"
    }
   ],
   "source": [
    "## removendo um valor da lista\n",
    "\n",
    "cidades_que_visitei.remove('Brasília')\n",
    "cidades_que_visitei"
   ]
  },
  {
   "cell_type": "code",
   "execution_count": 141,
   "metadata": {},
   "outputs": [
    {
     "data": {
      "text/plain": [
       "['Araxá', 'Araxá', 'Cairo', 'Eilat', 'Jerusalém', 'PARIS', 'Tel-Aviv', 'paris']"
      ]
     },
     "execution_count": 141,
     "metadata": {},
     "output_type": "execute_result"
    }
   ],
   "source": [
    "cidades_que_visitei.remove('Araxá')\n",
    "cidades_que_visitei"
   ]
  },
  {
   "cell_type": "markdown",
   "metadata": {},
   "source": [
    "Imagine que você possui a lista abaixo. Ela possui valores inteiros, porém, existe um impostor no meio dela, a string '88', encontre o índice dessa string e a substitua pelo valor inteiro 88."
   ]
  },
  {
   "cell_type": "code",
   "execution_count": null,
   "metadata": {},
   "outputs": [],
   "source": [
    "lista_exercicio = [125,175,785,4,89,25,41,58,56,2,45,4,5,13,65,469,8,8974,654,65,564,2547,87,987,6454,516,54,654,98,7,77,'88',54,7,8,54,5,1,4,7,8,25,4,5,7,8,8,8,5,6,6,6,3,2,5,4,5]"
   ]
  },
  {
   "cell_type": "code",
   "execution_count": 148,
   "metadata": {},
   "outputs": [
    {
     "data": {
      "text/plain": [
       "'4.87'"
      ]
     },
     "execution_count": 148,
     "metadata": {},
     "output_type": "execute_result"
    }
   ],
   "source": [
    "str(4.87)"
   ]
  },
  {
   "cell_type": "markdown",
   "metadata": {},
   "source": [
    "## Tuplas\n",
    "___\n",
    "\n",
    "As tuplas são como listas porém imutáveis, ou seja, não podemos alterar nenhum valor depois que ela for designada. Normalmente é utilizada para guardar informações que em momento algum podem mudar (endereço, cpf, id de usuário). Podemos usar parênteses para definir uma tupla ou a função ```tuple()```."
   ]
  },
  {
   "cell_type": "code",
   "execution_count": 149,
   "metadata": {},
   "outputs": [
    {
     "data": {
      "text/plain": [
       "('ALZR11', 'BBF011', 'BLMG11', 'BLCP11', 'BRCO11')"
      ]
     },
     "execution_count": 149,
     "metadata": {},
     "output_type": "execute_result"
    }
   ],
   "source": [
    "fundo_imob = ('ALZR11','BBF011','BLMG11','BLCP11','BRCO11')\n",
    "fundo_imob"
   ]
  },
  {
   "cell_type": "code",
   "execution_count": 151,
   "metadata": {},
   "outputs": [
    {
     "name": "stdout",
     "output_type": "stream",
     "text": [
      "ALZR11\n",
      "BBF011\n",
      "BLMG11\n"
     ]
    }
   ],
   "source": [
    "## as tuplas são indexadas da mesma forma que as listas\n",
    "\n",
    "print(fundo_imob[0])\n",
    "print(fundo_imob[1])\n",
    "print(fundo_imob[2])"
   ]
  },
  {
   "cell_type": "code",
   "execution_count": 152,
   "metadata": {},
   "outputs": [
    {
     "ename": "TypeError",
     "evalue": "'tuple' object does not support item assignment",
     "output_type": "error",
     "traceback": [
      "\u001b[0;31m---------------------------------------------------------------------------\u001b[0m",
      "\u001b[0;31mTypeError\u001b[0m                                 Traceback (most recent call last)",
      "\u001b[0;32m/tmp/ipykernel_631/150403952.py\u001b[0m in \u001b[0;36m<cell line: 3>\u001b[0;34m()\u001b[0m\n\u001b[1;32m      1\u001b[0m \u001b[0;31m## tuplas não suportam alteração de valores\u001b[0m\u001b[0;34m\u001b[0m\u001b[0;34m\u001b[0m\u001b[0m\n\u001b[1;32m      2\u001b[0m \u001b[0;34m\u001b[0m\u001b[0m\n\u001b[0;32m----> 3\u001b[0;31m \u001b[0mfundo_imob\u001b[0m\u001b[0;34m[\u001b[0m\u001b[0;36m0\u001b[0m\u001b[0;34m]\u001b[0m \u001b[0;34m=\u001b[0m \u001b[0;34m'BACON11'\u001b[0m\u001b[0;34m\u001b[0m\u001b[0;34m\u001b[0m\u001b[0m\n\u001b[0m",
      "\u001b[0;31mTypeError\u001b[0m: 'tuple' object does not support item assignment"
     ]
    }
   ],
   "source": [
    "## tuplas não suportam alteração de valores\n",
    "\n",
    "fundo_imob[0] = 'BACON11'"
   ]
  },
  {
   "cell_type": "code",
   "execution_count": 166,
   "metadata": {},
   "outputs": [
    {
     "data": {
      "text/plain": [
       "('ALZR11', 'BBF011', 'BLMG11', 'BLCP11', 'BRCO11', 'abc')"
      ]
     },
     "execution_count": 166,
     "metadata": {},
     "output_type": "execute_result"
    }
   ],
   "source": [
    "fundo_imob"
   ]
  },
  {
   "cell_type": "code",
   "execution_count": 155,
   "metadata": {},
   "outputs": [
    {
     "data": {
      "text/plain": [
       "('ALZR11', 11, {'BLMG11': 97.3}, 15.2, ['BRCO11', 16])"
      ]
     },
     "execution_count": 155,
     "metadata": {},
     "output_type": "execute_result"
    }
   ],
   "source": [
    "## tuplas também podem ser heterogeneas\n",
    "\n",
    "fundo_imob = tuple(['ALZR11',11,{'BLMG11':97.30},15.2,['BRCO11',16]])\n",
    "fundo_imob"
   ]
  },
  {
   "cell_type": "code",
   "execution_count": 157,
   "metadata": {},
   "outputs": [],
   "source": [
    "fundo_imob[-1].append(10)"
   ]
  },
  {
   "cell_type": "code",
   "execution_count": 158,
   "metadata": {},
   "outputs": [
    {
     "data": {
      "text/plain": [
       "('ALZR11', 11, {'BLMG11': 97.3}, 15.2, ['BRCO11', 16, 10])"
      ]
     },
     "execution_count": 158,
     "metadata": {},
     "output_type": "execute_result"
    }
   ],
   "source": [
    "fundo_imob"
   ]
  },
  {
   "cell_type": "markdown",
   "metadata": {},
   "source": [
    "### Métodos de Tuplas\n",
    "\n",
    "Devido a sua característica imutável, tuplas possuem poucos métodos."
   ]
  },
  {
   "cell_type": "code",
   "execution_count": 164,
   "metadata": {},
   "outputs": [
    {
     "data": {
      "text/plain": [
       "1"
      ]
     },
     "execution_count": 164,
     "metadata": {},
     "output_type": "execute_result"
    }
   ],
   "source": [
    "## contando quantos valores aparecem\n",
    "\n",
    "fundo_imob.count(['BRCO11',16,10])"
   ]
  },
  {
   "cell_type": "code",
   "execution_count": 161,
   "metadata": {},
   "outputs": [
    {
     "data": {
      "text/plain": [
       "1"
      ]
     },
     "execution_count": 161,
     "metadata": {},
     "output_type": "execute_result"
    }
   ],
   "source": [
    "fundo_imob.count(11)"
   ]
  },
  {
   "cell_type": "code",
   "execution_count": 162,
   "metadata": {},
   "outputs": [
    {
     "data": {
      "text/plain": [
       "3"
      ]
     },
     "execution_count": 162,
     "metadata": {},
     "output_type": "execute_result"
    }
   ],
   "source": [
    "## encontrando o índice do valor 15.2\n",
    "\n",
    "fundo_imob.index(15.2)"
   ]
  },
  {
   "cell_type": "markdown",
   "metadata": {},
   "source": [
    "## Dicionários\n",
    "___\n",
    "\n",
    "Os dicionários são outra estrutura de dados em python que também são conhecidas como “memória associativas” ou “vetores associativos”, diferentemente das listas e tuplas, os dicionários são indexados utilizando chaves (keys) e não números. Construímos um dicionário utilizando chaves ```{}``` ou a função ```dict()```. Os dicionários são mutáveis e iteráveis."
   ]
  },
  {
   "cell_type": "code",
   "execution_count": 174,
   "metadata": {},
   "outputs": [
    {
     "data": {
      "text/plain": [
       "dict"
      ]
     },
     "execution_count": 174,
     "metadata": {},
     "output_type": "execute_result"
    }
   ],
   "source": [
    "meu_dict = {}\n",
    "type(meu_dict)"
   ]
  },
  {
   "cell_type": "code",
   "execution_count": 211,
   "metadata": {},
   "outputs": [
    {
     "data": {
      "text/plain": [
       "{'id001': {'nome': 'nasser',\n",
       "  'endereço': 'águas claras',\n",
       "  'total_de_vendas': 5000},\n",
       " 'id002': {'nome': 'maria',\n",
       "  'endereço': 'águas claras',\n",
       "  'total_de_vendas': 2000}}"
      ]
     },
     "execution_count": 211,
     "metadata": {},
     "output_type": "execute_result"
    }
   ],
   "source": [
    "meu_dict"
   ]
  },
  {
   "cell_type": "code",
   "execution_count": 212,
   "metadata": {},
   "outputs": [
    {
     "data": {
      "text/plain": [
       "{'id001': {'nome': 'nasser',\n",
       "  'endereço': 'águas claras',\n",
       "  'total_de_vendas': 5000},\n",
       " 'id002': {'nome': 'maria',\n",
       "  'endereço': 'águas claras',\n",
       "  'total_de_vendas': 2000},\n",
       " 'clientes': ['Maria', 'João', 'Gilberto', 'Gabriela', 'Marcelo']}"
      ]
     },
     "execution_count": 212,
     "metadata": {},
     "output_type": "execute_result"
    }
   ],
   "source": [
    "meu_dict['clientes'] = ['Maria','João','Gilberto','Gabriela','Marcelo']\n",
    "meu_dict"
   ]
  },
  {
   "cell_type": "markdown",
   "metadata": {},
   "source": [
    "Perceba que para adicionar um par ```chave:valor``` basta utilizar uma sintaxe de indexação com atribuição."
   ]
  },
  {
   "cell_type": "code",
   "execution_count": 213,
   "metadata": {},
   "outputs": [
    {
     "data": {
      "text/plain": [
       "{'id001': {'nome': 'nasser',\n",
       "  'endereço': 'águas claras',\n",
       "  'total_de_vendas': 5000},\n",
       " 'id002': {'nome': 'maria',\n",
       "  'endereço': 'águas claras',\n",
       "  'total_de_vendas': 2000},\n",
       " 'clientes': ['Maria', 'João', 'Gilberto', 'Gabriela', 'Marcelo'],\n",
       " 'endereços': {'maria': 'águas claras',\n",
       "  'joão': 'asa norte',\n",
       "  'gilberto': 'asa sul',\n",
       "  'gabriela': 'samambaia',\n",
       "  'marcelo': 'planaltina'}}"
      ]
     },
     "execution_count": 213,
     "metadata": {},
     "output_type": "execute_result"
    }
   ],
   "source": [
    "meu_dict['endereços'] = {\n",
    "    'maria':'águas claras',\n",
    "    'joão':'asa norte',\n",
    "    'gilberto':'asa sul',\n",
    "    'gabriela':'samambaia',\n",
    "    'marcelo':'planaltina'\n",
    "}\n",
    "\n",
    "meu_dict"
   ]
  },
  {
   "cell_type": "code",
   "execution_count": 214,
   "metadata": {},
   "outputs": [],
   "source": [
    "meu_dict = {\n",
    "    'id001':{\n",
    "        'nome':'nasser',\n",
    "        'endereço':'águas claras',\n",
    "        'total_de_vendas':5000\n",
    "    },\n",
    "    \n",
    "    'id002':{\n",
    "        'nome':'maria',\n",
    "        'endereço':'águas claras',\n",
    "        'total_de_vendas':2000\n",
    "    }\n",
    "}"
   ]
  },
  {
   "cell_type": "markdown",
   "metadata": {},
   "source": [
    "Podemos também colocar dicionários dentro de dicionários. Perceba que todo objeto designado como valor ainda mantém seus métodos originais. Então para modifica-lo basta referenciar a chave e utilizar o método deseja do objeto em valor."
   ]
  },
  {
   "cell_type": "code",
   "execution_count": 215,
   "metadata": {},
   "outputs": [],
   "source": [
    "meu_dict['id003'] = {'nome':'joão',\n",
    "                     'endereço':'samambaia',\n",
    "                     'total_de_vendas':200}"
   ]
  },
  {
   "cell_type": "code",
   "execution_count": 216,
   "metadata": {},
   "outputs": [
    {
     "data": {
      "text/plain": [
       "{'id001': {'nome': 'nasser',\n",
       "  'endereço': 'águas claras',\n",
       "  'total_de_vendas': 5000},\n",
       " 'id002': {'nome': 'maria',\n",
       "  'endereço': 'águas claras',\n",
       "  'total_de_vendas': 2000},\n",
       " 'id003': {'nome': 'joão', 'endereço': 'samambaia', 'total_de_vendas': 200}}"
      ]
     },
     "execution_count": 216,
     "metadata": {},
     "output_type": "execute_result"
    }
   ],
   "source": [
    "meu_dict"
   ]
  },
  {
   "cell_type": "code",
   "execution_count": 217,
   "metadata": {},
   "outputs": [
    {
     "ename": "KeyError",
     "evalue": "'clientes'",
     "output_type": "error",
     "traceback": [
      "\u001b[0;31m---------------------------------------------------------------------------\u001b[0m",
      "\u001b[0;31mKeyError\u001b[0m                                  Traceback (most recent call last)",
      "\u001b[0;32m/tmp/ipykernel_631/1205279563.py\u001b[0m in \u001b[0;36m<cell line: 3>\u001b[0;34m()\u001b[0m\n\u001b[1;32m      1\u001b[0m \u001b[0;31m## acessando a lista de clientes\u001b[0m\u001b[0;34m\u001b[0m\u001b[0;34m\u001b[0m\u001b[0m\n\u001b[1;32m      2\u001b[0m \u001b[0;34m\u001b[0m\u001b[0m\n\u001b[0;32m----> 3\u001b[0;31m \u001b[0mmeu_dict\u001b[0m\u001b[0;34m[\u001b[0m\u001b[0;34m'clientes'\u001b[0m\u001b[0;34m]\u001b[0m\u001b[0;34m\u001b[0m\u001b[0;34m\u001b[0m\u001b[0m\n\u001b[0m",
      "\u001b[0;31mKeyError\u001b[0m: 'clientes'"
     ]
    }
   ],
   "source": [
    "## acessando a lista de clientes\n",
    "\n",
    "meu_dict['clientes']"
   ]
  },
  {
   "cell_type": "code",
   "execution_count": 218,
   "metadata": {},
   "outputs": [],
   "source": [
    "meu_dict['id003']['total_de_vendas'] += 300"
   ]
  },
  {
   "cell_type": "code",
   "execution_count": 219,
   "metadata": {},
   "outputs": [
    {
     "data": {
      "text/plain": [
       "{'id001': {'nome': 'nasser',\n",
       "  'endereço': 'águas claras',\n",
       "  'total_de_vendas': 5000},\n",
       " 'id002': {'nome': 'maria',\n",
       "  'endereço': 'águas claras',\n",
       "  'total_de_vendas': 2000},\n",
       " 'id003': {'nome': 'joão', 'endereço': 'samambaia', 'total_de_vendas': 500}}"
      ]
     },
     "execution_count": 219,
     "metadata": {},
     "output_type": "execute_result"
    }
   ],
   "source": [
    "meu_dict"
   ]
  },
  {
   "cell_type": "code",
   "execution_count": 220,
   "metadata": {},
   "outputs": [],
   "source": [
    "pedido = {\n",
    "    'time_stamp': [],\n",
    "    'id_do_usuario': [],\n",
    "    'dados_de_entrada': []\n",
    "}\n",
    "\n",
    "resposta = {\n",
    "    'time_stamp': [],\n",
    "    'dados_de_resposta': ['classe1'],\n",
    "    'score_de_confianca': 0.2,\n",
    "    'tempo_de_inferencia': []\n",
    "}"
   ]
  },
  {
   "cell_type": "code",
   "execution_count": 221,
   "metadata": {},
   "outputs": [
    {
     "name": "stdout",
     "output_type": "stream",
     "text": [
      "O modelo não conseguiu bons resultados\n"
     ]
    }
   ],
   "source": [
    "if resposta['score_de_confianca'] > 0.7:\n",
    "    print(resposta['dados_de_resposta'])\n",
    "else:\n",
    "    print('O modelo não conseguiu bons resultados')"
   ]
  },
  {
   "cell_type": "markdown",
   "metadata": {},
   "source": [
    "### Metodos de Dicionários\n",
    "\n",
    "Dicionários possuem uma série de métodos que podemos utilizar para acessar partes específicas (chaves ou valores)."
   ]
  },
  {
   "cell_type": "code",
   "execution_count": 222,
   "metadata": {},
   "outputs": [
    {
     "data": {
      "text/plain": [
       "{'id001': {'nome': 'nasser',\n",
       "  'endereço': 'águas claras',\n",
       "  'total_de_vendas': 5000},\n",
       " 'id002': {'nome': 'maria',\n",
       "  'endereço': 'águas claras',\n",
       "  'total_de_vendas': 2000},\n",
       " 'id003': {'nome': 'joão', 'endereço': 'samambaia', 'total_de_vendas': 500}}"
      ]
     },
     "execution_count": 222,
     "metadata": {},
     "output_type": "execute_result"
    }
   ],
   "source": [
    "meu_dict"
   ]
  },
  {
   "cell_type": "code",
   "execution_count": 223,
   "metadata": {},
   "outputs": [
    {
     "data": {
      "text/plain": [
       "dict_keys(['id001', 'id002', 'id003'])"
      ]
     },
     "execution_count": 223,
     "metadata": {},
     "output_type": "execute_result"
    }
   ],
   "source": [
    "## acessando chaves\n",
    "\n",
    "meu_dict.keys()"
   ]
  },
  {
   "cell_type": "code",
   "execution_count": 224,
   "metadata": {},
   "outputs": [
    {
     "data": {
      "text/plain": [
       "dict_values([{'nome': 'nasser', 'endereço': 'águas claras', 'total_de_vendas': 5000}, {'nome': 'maria', 'endereço': 'águas claras', 'total_de_vendas': 2000}, {'nome': 'joão', 'endereço': 'samambaia', 'total_de_vendas': 500}])"
      ]
     },
     "execution_count": 224,
     "metadata": {},
     "output_type": "execute_result"
    }
   ],
   "source": [
    "## acessando valores\n",
    "\n",
    "meu_dict.values()"
   ]
  },
  {
   "cell_type": "code",
   "execution_count": 225,
   "metadata": {},
   "outputs": [
    {
     "data": {
      "text/plain": [
       "dict_items([('id001', {'nome': 'nasser', 'endereço': 'águas claras', 'total_de_vendas': 5000}), ('id002', {'nome': 'maria', 'endereço': 'águas claras', 'total_de_vendas': 2000}), ('id003', {'nome': 'joão', 'endereço': 'samambaia', 'total_de_vendas': 500})])"
      ]
     },
     "execution_count": 225,
     "metadata": {},
     "output_type": "execute_result"
    }
   ],
   "source": [
    "## acessando chaves e valores\n",
    "\n",
    "meu_dict.items()"
   ]
  },
  {
   "cell_type": "code",
   "execution_count": 226,
   "metadata": {},
   "outputs": [],
   "source": [
    "## extraindo um valor e jogando fora a chave\n",
    "\n",
    "cliente_003 = meu_dict.pop('id003')"
   ]
  },
  {
   "cell_type": "code",
   "execution_count": 227,
   "metadata": {},
   "outputs": [
    {
     "data": {
      "text/plain": [
       "{'nome': 'joão', 'endereço': 'samambaia', 'total_de_vendas': 500}"
      ]
     },
     "execution_count": 227,
     "metadata": {},
     "output_type": "execute_result"
    }
   ],
   "source": [
    "cliente_003"
   ]
  },
  {
   "cell_type": "code",
   "execution_count": 228,
   "metadata": {},
   "outputs": [
    {
     "data": {
      "text/plain": [
       "{'id001': {'nome': 'nasser',\n",
       "  'endereço': 'águas claras',\n",
       "  'total_de_vendas': 5000},\n",
       " 'id002': {'nome': 'maria',\n",
       "  'endereço': 'águas claras',\n",
       "  'total_de_vendas': 2000}}"
      ]
     },
     "execution_count": 228,
     "metadata": {},
     "output_type": "execute_result"
    }
   ],
   "source": [
    "meu_dict"
   ]
  },
  {
   "cell_type": "code",
   "execution_count": 229,
   "metadata": {},
   "outputs": [],
   "source": [
    "meu_dict['id003'] = cliente_003"
   ]
  },
  {
   "cell_type": "code",
   "execution_count": 230,
   "metadata": {},
   "outputs": [
    {
     "data": {
      "text/plain": [
       "{'id001': {'nome': 'nasser',\n",
       "  'endereço': 'águas claras',\n",
       "  'total_de_vendas': 5000},\n",
       " 'id002': {'nome': 'maria',\n",
       "  'endereço': 'águas claras',\n",
       "  'total_de_vendas': 2000},\n",
       " 'id003': {'nome': 'joão', 'endereço': 'samambaia', 'total_de_vendas': 500}}"
      ]
     },
     "execution_count": 230,
     "metadata": {},
     "output_type": "execute_result"
    }
   ],
   "source": [
    "meu_dict"
   ]
  },
  {
   "cell_type": "code",
   "execution_count": 232,
   "metadata": {},
   "outputs": [
    {
     "ename": "KeyError",
     "evalue": "'id005'",
     "output_type": "error",
     "traceback": [
      "\u001b[0;31m---------------------------------------------------------------------------\u001b[0m",
      "\u001b[0;31mKeyError\u001b[0m                                  Traceback (most recent call last)",
      "\u001b[0;32m/tmp/ipykernel_631/1705224797.py\u001b[0m in \u001b[0;36m<cell line: 1>\u001b[0;34m()\u001b[0m\n\u001b[0;32m----> 1\u001b[0;31m \u001b[0mmeu_dict\u001b[0m\u001b[0;34m[\u001b[0m\u001b[0;34m'id005'\u001b[0m\u001b[0;34m]\u001b[0m\u001b[0;34m\u001b[0m\u001b[0;34m\u001b[0m\u001b[0m\n\u001b[0m",
      "\u001b[0;31mKeyError\u001b[0m: 'id005'"
     ]
    }
   ],
   "source": [
    "meu_dict['id005']"
   ]
  },
  {
   "cell_type": "code",
   "execution_count": 244,
   "metadata": {},
   "outputs": [
    {
     "data": {
      "text/plain": [
       "{'id001': {'nome': 'nasser',\n",
       "  'endereço': 'águas claras',\n",
       "  'total_de_vendas': 5000},\n",
       " 'id002': {'nome': 'maria',\n",
       "  'endereço': 'águas claras',\n",
       "  'total_de_vendas': 2000},\n",
       " 'id003': {'nome': 'joão', 'endereço': 'samambaia', 'total_de_vendas': 500}}"
      ]
     },
     "execution_count": 244,
     "metadata": {},
     "output_type": "execute_result"
    }
   ],
   "source": [
    "meu_dict"
   ]
  },
  {
   "cell_type": "code",
   "execution_count": 254,
   "metadata": {},
   "outputs": [
    {
     "name": "stdout",
     "output_type": "stream",
     "text": [
      "{'nome': 'maria', 'endereço': 'águas claras', 'total_de_vendas': 2000}\n"
     ]
    }
   ],
   "source": [
    "## usando get para acessar um valor\n",
    "\n",
    "id_do_cliente = '002'\n",
    "\n",
    "valor_do_cliente = meu_dict.get(f'id{id_do_cliente}', f'Não encontrei o cliente com o id{id_do_cliente}.')\n",
    "\n",
    "print(valor_do_cliente)"
   ]
  },
  {
   "cell_type": "code",
   "execution_count": 246,
   "metadata": {},
   "outputs": [
    {
     "ename": "KeyError",
     "evalue": "'id999'",
     "output_type": "error",
     "traceback": [
      "\u001b[0;31m---------------------------------------------------------------------------\u001b[0m",
      "\u001b[0;31mKeyError\u001b[0m                                  Traceback (most recent call last)",
      "\u001b[0;32m/tmp/ipykernel_631/1135515527.py\u001b[0m in \u001b[0;36m<cell line: 1>\u001b[0;34m()\u001b[0m\n\u001b[0;32m----> 1\u001b[0;31m \u001b[0mmeu_dict\u001b[0m\u001b[0;34m[\u001b[0m\u001b[0;34m'id999'\u001b[0m\u001b[0;34m]\u001b[0m\u001b[0;34m\u001b[0m\u001b[0;34m\u001b[0m\u001b[0m\n\u001b[0m",
      "\u001b[0;31mKeyError\u001b[0m: 'id999'"
     ]
    }
   ],
   "source": [
    "meu_dict['id999']"
   ]
  },
  {
   "cell_type": "markdown",
   "metadata": {},
   "source": [
    "O método ```.get()``` retorna o valor associado a uma chave, porém se essa chave não existir ele não levanta nenhuma mensagem de erro como a indexação tradicional faria. Entender esse comportamento é muito importante para montar algoritmos que possam atuar sem intervenção humana."
   ]
  },
  {
   "cell_type": "markdown",
   "metadata": {},
   "source": [
    "# Operadores Lógicos e Relacionais\n",
    "___\n",
    "\n",
    "Os operadores relacionais são utilizados para testar condições utilizando variáveis. O retorno de uma condição sempre será avaliado com True (verdadeiro) ou False (falso). \n",
    "\n",
    "| Descrição         | Símbolo |\n",
    "|-------------------|---------|\n",
    "| Igual a           | ==       |\n",
    "| Diferente de      | != |\n",
    "| Maior que         | >       |\n",
    "| Menor que         | <       |\n",
    "| Maior ou igual a  | >=      |\n",
    "| Menor ou igual a  | <=      |\n",
    "\n",
    "\n",
    "Podemos utilizar operadores lógicos para criar condições mais complexas. Os operadores lógicos utilizados em python são os seguintes.\n",
    "\n",
    "| Operador Lógico | Operador em python |\n",
    "|-----------------|--------------------|\n",
    "| E               | and                |\n",
    "| OU              | or                 |\n",
    "| NÃO             | not                |"
   ]
  },
  {
   "cell_type": "code",
   "execution_count": 265,
   "metadata": {},
   "outputs": [
    {
     "data": {
      "text/plain": [
       "True"
      ]
     },
     "execution_count": 265,
     "metadata": {},
     "output_type": "execute_result"
    }
   ],
   "source": [
    "10 > 2"
   ]
  },
  {
   "cell_type": "code",
   "execution_count": 266,
   "metadata": {},
   "outputs": [
    {
     "data": {
      "text/plain": [
       "False"
      ]
     },
     "execution_count": 266,
     "metadata": {},
     "output_type": "execute_result"
    }
   ],
   "source": [
    "5 > 5"
   ]
  },
  {
   "cell_type": "code",
   "execution_count": 267,
   "metadata": {},
   "outputs": [
    {
     "data": {
      "text/plain": [
       "True"
      ]
     },
     "execution_count": 267,
     "metadata": {},
     "output_type": "execute_result"
    }
   ],
   "source": [
    "5 >= 5"
   ]
  },
  {
   "cell_type": "code",
   "execution_count": 268,
   "metadata": {},
   "outputs": [
    {
     "data": {
      "text/plain": [
       "True"
      ]
     },
     "execution_count": 268,
     "metadata": {},
     "output_type": "execute_result"
    }
   ],
   "source": [
    "a = 25\n",
    "b = 32\n",
    "\n",
    "a/2 > b**0.5"
   ]
  },
  {
   "cell_type": "code",
   "execution_count": 285,
   "metadata": {},
   "outputs": [
    {
     "data": {
      "text/plain": [
       "False"
      ]
     },
     "execution_count": 285,
     "metadata": {},
     "output_type": "execute_result"
    }
   ],
   "source": [
    "## multiplas condições\n",
    "\n",
    "(a/5 > 4) and (b > 50)"
   ]
  },
  {
   "cell_type": "code",
   "execution_count": 270,
   "metadata": {},
   "outputs": [
    {
     "data": {
      "text/plain": [
       "True"
      ]
     },
     "execution_count": 270,
     "metadata": {},
     "output_type": "execute_result"
    }
   ],
   "source": [
    "a/5 > 4"
   ]
  },
  {
   "cell_type": "code",
   "execution_count": 271,
   "metadata": {},
   "outputs": [
    {
     "data": {
      "text/plain": [
       "False"
      ]
     },
     "execution_count": 271,
     "metadata": {},
     "output_type": "execute_result"
    }
   ],
   "source": [
    "b > 50"
   ]
  },
  {
   "cell_type": "markdown",
   "metadata": {},
   "source": [
    "Veja que a primeira parte da condição é avaliada como True (verdadeira) e a segunda parte é avaliada como False (falso). Utilizando o operador lógico ```and``` para unir as duas partes da condição acima chegamos no resultado False."
   ]
  },
  {
   "cell_type": "code",
   "execution_count": 278,
   "metadata": {},
   "outputs": [
    {
     "data": {
      "text/plain": [
       "True"
      ]
     },
     "execution_count": 278,
     "metadata": {},
     "output_type": "execute_result"
    }
   ],
   "source": [
    "## multiplas condições\n",
    "a = 10\n",
    "b = 5\n",
    "\n",
    "(a > 100) or (b == 5)"
   ]
  },
  {
   "cell_type": "markdown",
   "metadata": {},
   "source": [
    "# Estruturas condicionais\n",
    "___\n",
    "\n",
    "Tendo a capacidade de avaliar condições pode-se criar algoritmos mais dinâmicos e que tenham saídas dependentes das entradas. Utiliza-se estruturas condicionais para criar caminhos alternativos dentro de um algoritmo, esses caminhos alternativos podem (ou não) serem ativados de acordo com a condição avaliada.\n",
    "\n",
    "Imagine que, para passar de uma matéria na faculdade, é necessário uma nota final maior do que 5. Podemos montar um algoritmo para definir se um aluno passou ou não. O diagrama desse algoritmo ficaria da seguinte forma:\n",
    "\n",
    "![aluno](imgs/aluno_if.png)\n",
    "\n",
    "Existem duas saídas possíveis, para criar esse caminho alternativo utilizamos a sintaxe ```if ... else``` (se então, senão). Essa estrutura avalia a condição entregue e segue pelo caminho determinado pelo resultado da condição. Ou seja, ```se (if)``` o aluno tiver uma média maior ou igual a 5 ele é aprovado ```senão (else)``` ele é reprovado. Em python o algoritmo acima ficaria da seguinte forma:"
   ]
  },
  {
   "cell_type": "code",
   "execution_count": 286,
   "metadata": {},
   "outputs": [
    {
     "name": "stdout",
     "output_type": "stream",
     "text": [
      "Aluno Reprovado\n"
     ]
    }
   ],
   "source": [
    "media = 4.99\n",
    "\n",
    "if media >= 5.0:\n",
    "    print('Aluno Aprovado')\n",
    "else:\n",
    "    print('Aluno Reprovado')"
   ]
  },
  {
   "cell_type": "code",
   "execution_count": 287,
   "metadata": {},
   "outputs": [
    {
     "name": "stdout",
     "output_type": "stream",
     "text": [
      "Aluno Aprovado\n"
     ]
    }
   ],
   "source": [
    "media = 9.5\n",
    "\n",
    "if media >= 5.0:\n",
    "    print('Aluno Aprovado')\n",
    "else:\n",
    "    print('Aluno Reprovado')"
   ]
  },
  {
   "cell_type": "code",
   "execution_count": 293,
   "metadata": {},
   "outputs": [
    {
     "name": "stdout",
     "output_type": "stream",
     "text": [
      "Parabéns\n",
      "Nos vemos no ano que vem\n"
     ]
    }
   ],
   "source": [
    "media = 9.9\n",
    "\n",
    "if media > 9:\n",
    "    print('Parabéns')\n",
    "else:\n",
    "    if media >= 5:\n",
    "        print('Aluno Aprovado')\n",
    "    else:\n",
    "        print('Aluno Reprovado')\n",
    "        \n",
    "print('Nos vemos no ano que vem')"
   ]
  },
  {
   "cell_type": "markdown",
   "metadata": {},
   "source": [
    "Perceba o bloco de código a ser executado fica abaixo da condição testada como verdadeira e é antecedida por 4 espaços (1 TAB). Podemos adicionar mais estruturas condicionais dentro de outras de forma aninhada. Para isso, imagine o mesmo problema demonstrado acima, porém após avaliar alunos com média acima de 5 devemos entender se estes possuem média também maior ou igual a 7, em caso positivo eles serão aprovados, para notas menores do que 7 e maiores do que 5 o aluno deverá realizar outra avaliação. O diagrama para essa situação fica da seguinte forma:\n",
    "\n",
    "![aluno2](imgs/algoritmo2.png)\n",
    "\n",
    "Em python:"
   ]
  },
  {
   "cell_type": "code",
   "execution_count": 294,
   "metadata": {},
   "outputs": [
    {
     "name": "stdout",
     "output_type": "stream",
     "text": [
      "Fazer outra avaliação!\n"
     ]
    }
   ],
   "source": [
    "media = 6.8\n",
    "\n",
    "if media >= 5:\n",
    "    if media >= 7:\n",
    "        print('Aluno Aprovado!')\n",
    "    else:\n",
    "        print('Fazer outra avaliação!')\n",
    "else:\n",
    "    print('Aluno Reprovado')"
   ]
  },
  {
   "cell_type": "code",
   "execution_count": 295,
   "metadata": {},
   "outputs": [
    {
     "name": "stdout",
     "output_type": "stream",
     "text": [
      "Aluno Aprovado!\n"
     ]
    }
   ],
   "source": [
    "media = 9\n",
    "\n",
    "if media >= 5:\n",
    "    if media >= 7:\n",
    "        print('Aluno Aprovado!')\n",
    "    else:\n",
    "        print('Fazer outra avaliação!')\n",
    "else:\n",
    "    print('Aluno Reprovado')"
   ]
  },
  {
   "cell_type": "code",
   "execution_count": 296,
   "metadata": {},
   "outputs": [
    {
     "name": "stdout",
     "output_type": "stream",
     "text": [
      "Aluno Reprovado\n"
     ]
    }
   ],
   "source": [
    "media = 4\n",
    "\n",
    "if media >= 5:\n",
    "    if media >= 7:\n",
    "        print('Aluno Aprovado!')\n",
    "    else:\n",
    "        print('Fazer outra avaliação!')\n",
    "else:\n",
    "    print('Aluno Reprovado')"
   ]
  },
  {
   "cell_type": "markdown",
   "metadata": {},
   "source": [
    "Porém existem casos que não são facilmente descritos por condições binárias sendo necessário um cojunto maior de condições a serem avaliadas. Para isso utilizamos a sintaxe ```elif``` que singnifica ``` else if ``` ou seja, quando a condição anterior for avaliada como ```False``` o código deverá avaliar mais uma condição antes da saída do algoritmo.\n",
    "\n",
    "A avaliação de velocidade de uma música pode receber alguns nomes, em casos de músicas com bpm (batida por minuto) maior ou igual a 40 usa-se o termo 'Largo', para músicas com bpm maior do que 60 utiliza-se 'Adagio', para músicas com bpm maior ou igual a 140 e menor ou igual a 200 utiliza-se 'Presto'. Como esse algoritmo avaliaria 4 músicas com bpms, 41, 75, 112 e 189?"
   ]
  },
  {
   "cell_type": "code",
   "execution_count": 301,
   "metadata": {},
   "outputs": [
    {
     "name": "stdout",
     "output_type": "stream",
     "text": [
      "BPM não determinado!\n"
     ]
    }
   ],
   "source": [
    "bpm = 98\n",
    "\n",
    "if bpm >= 40 and bpm <= 60:\n",
    "    print('Largo')\n",
    "elif bpm > 60 and bpm <= 80:\n",
    "    print('Adagio')\n",
    "elif bpm >= 140 and bpm <= 200:\n",
    "    print('Presto')\n",
    "else:\n",
    "    print('BPM não determinado!')"
   ]
  },
  {
   "cell_type": "markdown",
   "metadata": {},
   "source": [
    "# Estruturas de Repetição\n",
    "___\n",
    "\n",
    "As estruturas de repetição (ou loops) são bastante utilizadas quando queremos executar um bloco de código até atingirmos uma condição específica, que pode ser o final de um objeto (final de lista), ou uma condição expressamente descrita. Existem duas estruturas de repretição que são utilizadas em códigos python. O loop ```for``` e o ```while```.\n",
    "\n",
    "## for\n",
    "\n",
    "O loop ```for``` percorre todo um objeto iterável e executa um bloco de código para cada um dos valores associados a uma variável determinada no próprio loop. Um exemplo de loop for aplicado a listas:"
   ]
  },
  {
   "cell_type": "code",
   "execution_count": null,
   "metadata": {},
   "outputs": [],
   "source": [
    "ls = [1,2,3,4,5,6,7,8,9,10]\n",
    "\n",
    "for op in ls:\n",
    "    print(op)"
   ]
  },
  {
   "cell_type": "markdown",
   "metadata": {},
   "source": [
    "A sintaxe do loop começa com a palavra reservada seguida de uma variável temporária que é criada e utilizada durante a execução do loop, outra palavra reservada e o objeto iterável. A variável temporária é atualizada a cada iteração do loop, ou seja, a cada execução essa variável recebe um novo valor."
   ]
  },
  {
   "cell_type": "code",
   "execution_count": null,
   "metadata": {},
   "outputs": [],
   "source": [
    "for valor in ls:\n",
    "    print(valor**3)"
   ]
  },
  {
   "cell_type": "code",
   "execution_count": null,
   "metadata": {},
   "outputs": [],
   "source": [
    "## for com if\n",
    "\n",
    "for valor in ls:\n",
    "    if valor % 2 == 0:\n",
    "        print('Valor Múltiplo de 2')\n",
    "    else:\n",
    "        print(valor)"
   ]
  },
  {
   "cell_type": "code",
   "execution_count": null,
   "metadata": {},
   "outputs": [],
   "source": [
    "contador = 0\n",
    "ls_multiplos = []\n",
    "\n",
    "\n",
    "for idx in ls:\n",
    "    \n",
    "    if contador == 3:\n",
    "        break\n",
    "    \n",
    "    print('inicio',contador)\n",
    "    \n",
    "    if idx % 2 == 0:\n",
    "        contador += 1\n",
    "        print('depois',contador)\n",
    "        \n",
    "        ls_multiplos.append(idx)\n",
    "    else:\n",
    "        print(idx)"
   ]
  },
  {
   "cell_type": "code",
   "execution_count": null,
   "metadata": {},
   "outputs": [],
   "source": [
    "ls_multiplos"
   ]
  },
  {
   "cell_type": "markdown",
   "metadata": {},
   "source": [
    "Podemos utilizar a palavra reservada ```break``` para interromper o processo de iteração e execução do código. Vamos criar um algoritmo que avalie se cada valor de um lista é ou não divisível por 2, em caso positivo ele pega esse valor e o adiciona à variável ```soma``` quando a variável ```soma``` for maior do que 300 devemos para a execução."
   ]
  },
  {
   "cell_type": "code",
   "execution_count": null,
   "metadata": {},
   "outputs": [],
   "source": [
    "## for com break\n",
    "\n",
    "new_ls = list(range(1,500))\n",
    "\n",
    "soma = 0\n",
    "\n",
    "for valor in new_ls:\n",
    "  \n",
    "    if soma > 300:\n",
    "        break\n",
    "    \n",
    "    if valor % 2 == 0:\n",
    "        print(f\"O valor {valor} é válido!\")\n",
    "        print(f\"SOMA antes\", soma)\n",
    "        soma += valor\n",
    "        print(f\"SOMA depois {soma}\\n----------\")"
   ]
  },
  {
   "cell_type": "markdown",
   "metadata": {},
   "source": [
    "Podemos estruturas de repetição com strings. Elas são iteráveis a nível de caractere, ou seja, cada iteração será feita com um caractere do texto."
   ]
  },
  {
   "cell_type": "code",
   "execution_count": null,
   "metadata": {},
   "outputs": [],
   "source": [
    "tweet = \"Bom dia, ótima semana a todos ...\""
   ]
  },
  {
   "cell_type": "code",
   "execution_count": null,
   "metadata": {},
   "outputs": [],
   "source": [
    "for palavra in tweet.lower().strip('...').strip(' ').split():\n",
    "    print(palavra)"
   ]
  },
  {
   "cell_type": "code",
   "execution_count": null,
   "metadata": {},
   "outputs": [],
   "source": [
    "for x in tweet.split():\n",
    "    print(x)"
   ]
  },
  {
   "cell_type": "code",
   "execution_count": null,
   "metadata": {},
   "outputs": [],
   "source": [
    "ls_unidades = [1,2,3]\n",
    "ls_dezenas = [10,20,30]\n",
    "\n",
    "for unidade in ls_unidades:\n",
    "    \n",
    "    for dezena in ls_dezenas:\n",
    "        print(dezena,unidade)"
   ]
  },
  {
   "cell_type": "markdown",
   "metadata": {},
   "source": [
    "É possível utilizar a palavra reservada ```else``` associada ao loop for.Quando ambas aparecem em um mesmo nível o bloco de código abaixo do ```else``` será executado ao final do loop for."
   ]
  },
  {
   "cell_type": "code",
   "execution_count": null,
   "metadata": {},
   "outputs": [],
   "source": [
    "## for com else\n",
    "cidades = [\"Brasília\", \"Bananal\", \"São Paulo\", \"São Luís\"]\n",
    "\n",
    "for cidade in cidades:\n",
    "    print(cidade)\n",
    "else:\n",
    "    print(\"Acabaram as cidades\")"
   ]
  },
  {
   "cell_type": "markdown",
   "metadata": {},
   "source": [
    "Ao iterar (utilizando loop for) sobre listas é possível utilizar-se de uma sintaxe reduzida **chamada de compreensão de lista.** Ela é particularmente útil quando o resultado necessário também uma lista."
   ]
  },
  {
   "cell_type": "code",
   "execution_count": null,
   "metadata": {},
   "outputs": [],
   "source": [
    "## compreensão de lista\n",
    "\n",
    "ls = [1,2,3,4,5]\n",
    "new_ls = []\n",
    "\n",
    "for valor in ls:\n",
    "    new_ls.append(valor**3)"
   ]
  },
  {
   "cell_type": "code",
   "execution_count": null,
   "metadata": {},
   "outputs": [],
   "source": [
    "new_ls"
   ]
  },
  {
   "cell_type": "markdown",
   "metadata": {},
   "source": [
    "No exemplo acima, para termos o cubo de todos os valores de uma lista em outra é necessário iterar sobre cada um dos valores da lista ```ls```, instanciar uma lista vazia chamada ```new_ls``` e criarmos um ```loop for``` onde a cada iteração o cubo do valor é adicionado a ```new_ls```. Utilizando compreensão de lista conseguimos o mesmo resultado, porém com somente uma linha."
   ]
  },
  {
   "cell_type": "code",
   "execution_count": null,
   "metadata": {},
   "outputs": [],
   "source": [
    "## compreensão de lista\n",
    "\n",
    "new_ls = [valor**3 for valor in ls]\n",
    "new_ls"
   ]
  },
  {
   "cell_type": "code",
   "execution_count": null,
   "metadata": {},
   "outputs": [],
   "source": [
    "corpus = ['bom dia nao gostei','boa noite gostei bastante']\n",
    "\n",
    "sentiment_ls = []\n",
    "\n",
    "for frase in corpus:\n",
    "    lista_de_palavras = frase.split()\n",
    "    \n",
    "    lista_sentimento = []\n",
    "    \n",
    "    for palavra in lista_de_palavras:\n",
    "        \n",
    "        if palavra == 'nao':\n",
    "            lista_sentimento.append('NEG')\n",
    "        else:\n",
    "            lista_sentimento.append('POS')\n",
    "    else:\n",
    "        sentiment_ls.append(lista_sentimento)"
   ]
  },
  {
   "cell_type": "code",
   "execution_count": null,
   "metadata": {},
   "outputs": [],
   "source": [
    "corpus = ['bom dia nao gostei','boa noite gostei bastante']\n",
    "\n",
    "sentiment_ls = []\n",
    "\n",
    "for frase in corpus:\n",
    "    lista_de_palavras = frase.split()\n",
    "    lista_sentimento = ['NEG' if x == 'nao' else 'POS' for x in lista_de_palavras]\n",
    "    sentiment_ls.append(lista_sentimento)"
   ]
  },
  {
   "cell_type": "code",
   "execution_count": null,
   "metadata": {},
   "outputs": [],
   "source": [
    "ls = [10,21,36]\n",
    "\n",
    "[x for x in ls if x % 2 == 0]"
   ]
  },
  {
   "cell_type": "code",
   "execution_count": null,
   "metadata": {},
   "outputs": [],
   "source": [
    "x = 10\n",
    "\n",
    "['é 10' if a==10 else 'nao é 10' for a in ls]"
   ]
  },
  {
   "cell_type": "code",
   "execution_count": null,
   "metadata": {},
   "outputs": [],
   "source": [
    "'é 10' if x==10 else 'nao é 10'"
   ]
  },
  {
   "cell_type": "markdown",
   "metadata": {},
   "source": [
    "Também é possível utilizar condições dentro de uma compreensão de lista."
   ]
  },
  {
   "cell_type": "code",
   "execution_count": null,
   "metadata": {},
   "outputs": [],
   "source": [
    "ls = [1,2,3,4,5]\n",
    "new_ls = []\n",
    "\n",
    "for valor in ls:\n",
    "    if valor % 2 == 0:\n",
    "        new_ls.append(valor**3)\n",
    "\n",
    "new_ls"
   ]
  },
  {
   "cell_type": "code",
   "execution_count": null,
   "metadata": {},
   "outputs": [],
   "source": [
    "## usando somente if\n",
    "\n",
    "new_ls = [valor ** 3 for valor in ls if valor%2==0]\n",
    "new_ls"
   ]
  },
  {
   "cell_type": "code",
   "execution_count": null,
   "metadata": {},
   "outputs": [],
   "source": [
    "## usando if else\n",
    "\n",
    "new_ls = [valor ** 3 if valor%2==0 else 0 for valor in ls]\n",
    "new_ls"
   ]
  },
  {
   "cell_type": "markdown",
   "metadata": {},
   "source": [
    "Perceba que a sintaxe da compreensão de lista se altera de acordo com o uso somente do ```if``` ou do ```if ... else```."
   ]
  },
  {
   "cell_type": "markdown",
   "metadata": {},
   "source": [
    "## while\n",
    "\n",
    "Outra estrutura de repetição é o ```while``` que executa o bloco de código inúmeras vezes até que sua condição criadora se torne falsa ou que ele seja parado com ```break```."
   ]
  },
  {
   "cell_type": "code",
   "execution_count": null,
   "metadata": {},
   "outputs": [],
   "source": [
    "i = 10\n",
    "\n",
    "while i <= 100:\n",
    "    \n",
    "    print(f\"O valor de 'i' é {i}.\")\n",
    "    i += 10"
   ]
  },
  {
   "cell_type": "markdown",
   "metadata": {},
   "source": [
    "O algoritmo acima printa o valor da variável ```i``` até que esse valor ultrapasse 100. A cada iteração a condição ```i <= 100``` é avaliada se o resultado dessa condição for ```True``` o código abaixo é executado, se for ```False``` o código não será executado e o algoritmo para."
   ]
  },
  {
   "cell_type": "code",
   "execution_count": null,
   "metadata": {},
   "outputs": [],
   "source": [
    "i = 10\n",
    "\n",
    "while i <= 100:\n",
    "    print(f\"O valor de 'i' é {i}.\")\n",
    "  \n",
    "    if i == 60:\n",
    "        print('Cheguei a 60, parando o loop.')\n",
    "        break\n",
    "\n",
    "    i += 10"
   ]
  },
  {
   "cell_type": "markdown",
   "metadata": {},
   "source": [
    "Podemos antecipadamente para a execução de um loop ```while``` com a palavra ```break```, nesse caso a condição pode continuar verdadeira, mas a execução foi interrompida."
   ]
  },
  {
   "cell_type": "code",
   "execution_count": null,
   "metadata": {},
   "outputs": [],
   "source": [
    "contador = 0\n",
    "soma = 0\n",
    "\n",
    "while contador <= 100:\n",
    "  \n",
    "    if soma >= 2600:\n",
    "        print(\"iteração \",contador)\n",
    "        print(\"soma \", soma)\n",
    "        break\n",
    "    else:\n",
    "        soma += contador\n",
    "    \n",
    "    contador += 1"
   ]
  },
  {
   "cell_type": "code",
   "execution_count": null,
   "metadata": {},
   "outputs": [],
   "source": [
    "clientes = 0\n",
    "valor_recebido = 0\n",
    "\n",
    "while valor_recebido < 100:\n",
    "    print('Venda mais!')\n",
    "    clientes += 1\n",
    "    valor_recebido = clientes * 4.99\n",
    "else:\n",
    "    print('Meta alcançada!!')\n",
    "    print('QTD DE CLIENTES',clientes)"
   ]
  },
  {
   "cell_type": "code",
   "execution_count": null,
   "metadata": {},
   "outputs": [],
   "source": [
    "primeira_lista = [1,2,3,4,5]\n",
    "\n",
    "i = 0\n",
    "\n",
    "ls = []\n",
    "\n",
    "while i < 10:\n",
    "    \n",
    "    for valor in primeira_lista:\n",
    "        ls.append(valor)\n",
    "\n",
    "    i += 1\n",
    "\n",
    "len(ls)"
   ]
  },
  {
   "cell_type": "markdown",
   "metadata": {},
   "source": [
    "# Funções\n",
    "___\n",
    "\n",
    "Uma função é um bloco de código que só é executado quando chamado. Cada função tem um identificador e assim que definido estará sempre associado ao bloco de código. O ato de definir uma função não executa o seu código. Para criar um função basta utilizarmos a palavra reservada ```def```.\n",
    "\n",
    "Um cientista de dados define várias funções ao longo do seu dia-a-dia de trabalho. Em sua maioria, as funções criadas executam uma atividade única que será utilizadas uma grande quantidade de vezes. Funções de avaliação de métricas, tratamento de dados, avaliação de modelos, são exemplos de funcionalidades normalmente utilizadas para funções personalizadas."
   ]
  },
  {
   "cell_type": "code",
   "execution_count": null,
   "metadata": {},
   "outputs": [],
   "source": [
    "def minha_primeira_funcao():\n",
    "    \n",
    "    print('O início de um sonho!')\n",
    "    \n",
    "    for _ in range(5):\n",
    "        print('.')\n",
    "    \n",
    "    print('Deu tudo certo!')"
   ]
  },
  {
   "cell_type": "code",
   "execution_count": null,
   "metadata": {},
   "outputs": [],
   "source": [
    "minha_primeira_funcao()"
   ]
  },
  {
   "cell_type": "code",
   "execution_count": null,
   "metadata": {},
   "outputs": [],
   "source": [
    "def hello_world():\n",
    "    print('Hello World!')\n",
    "\n",
    "hello_world()"
   ]
  },
  {
   "cell_type": "markdown",
   "metadata": {},
   "source": [
    "Funções podem receber valores pre-determinados chamados de parâmetros, cada parâmetro irá receber um argumento e esses argumentos podem ser enviados pelo usuário ou pode ser previamente determinado."
   ]
  },
  {
   "cell_type": "code",
   "execution_count": null,
   "metadata": {},
   "outputs": [],
   "source": [
    "def hello_person(nome):\n",
    "    print(f'Hello {nome}!')"
   ]
  },
  {
   "cell_type": "code",
   "execution_count": null,
   "metadata": {},
   "outputs": [],
   "source": [
    "hello_person(nome = 'Maria')"
   ]
  },
  {
   "cell_type": "code",
   "execution_count": null,
   "metadata": {},
   "outputs": [],
   "source": [
    "def calculadora(valor1,valor2,operacao):\n",
    "    \n",
    "    if operacao == 'soma':\n",
    "        print(valor1+valor2)\n",
    "        \n",
    "    elif operacao == 'divisao':\n",
    "        print(valor1/valor2)\n",
    "        \n",
    "    elif operacao == 'multiplicacao':\n",
    "        print(valor1*valor2)\n",
    "        \n",
    "    elif operacao == 'subtracao':\n",
    "        print(valor1-valor2)"
   ]
  },
  {
   "cell_type": "code",
   "execution_count": null,
   "metadata": {},
   "outputs": [],
   "source": [
    "calculadora(valor1=15,valor2=16)"
   ]
  },
  {
   "cell_type": "markdown",
   "metadata": {},
   "source": [
    "Na construção da função ```calculadora()``` existe o parâmetro ```operacao``` que não foi passado, logo recebemos o erro acima."
   ]
  },
  {
   "cell_type": "code",
   "execution_count": null,
   "metadata": {},
   "outputs": [],
   "source": [
    "calculadora(valor1=15,valor2=16,operacao='soma')"
   ]
  },
  {
   "cell_type": "code",
   "execution_count": null,
   "metadata": {},
   "outputs": [],
   "source": [
    "calculadora(15,16,'soma')"
   ]
  },
  {
   "cell_type": "code",
   "execution_count": null,
   "metadata": {},
   "outputs": [],
   "source": [
    "calculadora(10,8,operacao='soma')"
   ]
  },
  {
   "cell_type": "code",
   "execution_count": null,
   "metadata": {},
   "outputs": [],
   "source": [
    "calculadora(valor2=15,operacao='soma',valor1=25)"
   ]
  },
  {
   "cell_type": "markdown",
   "metadata": {},
   "source": [
    "Os parâmetros de uma função podem ser passadas de forma posicional, ou seja, o primeiro valor será entregue ao primeiro parâmetro, o segundo valor ao segundo parâmetro e assim por diante. Porém, se iniciarmos a chamada de uma função de forma posicional não podemos alterar a forma de chamada."
   ]
  },
  {
   "cell_type": "code",
   "execution_count": null,
   "metadata": {},
   "outputs": [],
   "source": [
    "## criando valores padrões para argumentos\n",
    "\n",
    "def calculadora(valor1=10, valor2=10, operacao='soma'):\n",
    "\n",
    "    if operacao == 'soma':\n",
    "        print(valor1+valor2)\n",
    "    elif operacao == 'divisao':\n",
    "        print(valor1/valor2)\n",
    "    elif operacao == 'multiplicacao':\n",
    "        print(valor1*valor2)\n",
    "    elif operacao == 'subtracao':\n",
    "        print(valor1-valor2)"
   ]
  },
  {
   "cell_type": "code",
   "execution_count": null,
   "metadata": {},
   "outputs": [],
   "source": [
    "calculadora(valor1=25,valor2=15,operacao='multiplicacao')"
   ]
  },
  {
   "cell_type": "markdown",
   "metadata": {},
   "source": [
    "O resultado de uma função pode ser guardado em variáveis, porém para que isso ocorra precisamos expressar claramente o que será retornado pela função usando a palavra reservada ```return```. É bastante recomendado criar funções que tenham ```return```."
   ]
  },
  {
   "cell_type": "code",
   "execution_count": null,
   "metadata": {},
   "outputs": [],
   "source": [
    "def minha_soma(valor1,valor2):\n",
    "    resultado = valor1+valor2\n",
    "\n",
    "def minha_soma_return(valor1,valor2):\n",
    "    resultado = valor1 + valor2\n",
    "\n",
    "    return resultado"
   ]
  },
  {
   "cell_type": "code",
   "execution_count": null,
   "metadata": {},
   "outputs": [],
   "source": [
    "x = minha_soma(10,10)\n",
    "print(x)\n",
    "print(type(x))"
   ]
  },
  {
   "cell_type": "code",
   "execution_count": null,
   "metadata": {},
   "outputs": [],
   "source": [
    "x = minha_soma_return(10,10)\n",
    "print(x)\n",
    "print(type(x))"
   ]
  },
  {
   "cell_type": "markdown",
   "metadata": {},
   "source": [
    "Também é possivel criar arquivos ```.py``` com as nossas funções e utiliza-las após importação. O arquivo ```minhas_funcs.py``` na pasta ```src``` tem a função ```func1```. Podemos utilizar essa função neste notebook mesmo que ela não tenha sido criada aqui, para isso utilizamos a palavra reservada ```import``` passando o nome da pasta e do arquivo onde a função desejada etá."
   ]
  },
  {
   "cell_type": "code",
   "execution_count": null,
   "metadata": {},
   "outputs": [],
   "source": [
    "from src.minhas_funcs import func1"
   ]
  },
  {
   "cell_type": "code",
   "execution_count": null,
   "metadata": {},
   "outputs": [],
   "source": [
    "func1(10,12)"
   ]
  },
  {
   "cell_type": "code",
   "execution_count": null,
   "metadata": {},
   "outputs": [],
   "source": [
    "func1(12,10)"
   ]
  }
 ],
 "metadata": {
  "colab": {
   "collapsed_sections": [
    "XrxnotkOffp6",
    "6U8ou0VTJdtq"
   ],
   "name": "FUNDAMENTOS-PYTHON-ANATEL.ipynb",
   "provenance": []
  },
  "kernelspec": {
   "display_name": "Python 3 (ipykernel)",
   "language": "python",
   "name": "python3"
  },
  "language_info": {
   "codemirror_mode": {
    "name": "ipython",
    "version": 3
   },
   "file_extension": ".py",
   "mimetype": "text/x-python",
   "name": "python",
   "nbconvert_exporter": "python",
   "pygments_lexer": "ipython3",
   "version": "3.10.12"
  }
 },
 "nbformat": 4,
 "nbformat_minor": 4
}
